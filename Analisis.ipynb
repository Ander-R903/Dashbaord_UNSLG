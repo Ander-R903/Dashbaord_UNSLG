{
 "cells": [
  {
   "cell_type": "code",
   "execution_count": 1,
   "id": "2215181b",
   "metadata": {},
   "outputs": [],
   "source": [
    "import polars as pl\n",
    "import os\n",
    "from pathlib import Path\n",
    "import pandas as pd\n",
    "import glob\n",
    "from utils.mapeo import dict_carreras, dict_facultades, dict_area"
   ]
  },
  {
   "cell_type": "code",
   "execution_count": 2,
   "id": "194db996",
   "metadata": {},
   "outputs": [],
   "source": [
    "from IPython.display import Image"
   ]
  },
  {
   "cell_type": "code",
   "execution_count": 3,
   "id": "2b178971",
   "metadata": {},
   "outputs": [
    {
     "name": "stderr",
     "output_type": "stream",
     "text": [
      "Could not determine dtype for column 5, falling back to string\n",
      "Could not determine dtype for column 6, falling back to string\n"
     ]
    }
   ],
   "source": [
    "df2 = pl.concat([\n",
    "    pl.read_excel(f)\n",
    "      .drop('facultad', strict=False)\n",
    "      .rename({'escuela': 'carrera'}, strict=False)\n",
    "    for f in glob.glob('./input/*.xlsx')\n",
    "    if any(str(y) in f for y in range(2018, 2026))\n",
    "], how='vertical')"
   ]
  },
  {
   "cell_type": "code",
   "execution_count": 4,
   "id": "43290d68",
   "metadata": {},
   "outputs": [
    {
     "data": {
      "text/plain": [
       "(65224, 8)"
      ]
     },
     "execution_count": 4,
     "metadata": {},
     "output_type": "execute_result"
    }
   ],
   "source": [
    "df2.shape"
   ]
  },
  {
   "cell_type": "code",
   "execution_count": 5,
   "id": "0bf8909a",
   "metadata": {},
   "outputs": [
    {
     "data": {
      "text/html": [
       "<div><style>\n",
       ".dataframe > thead > tr,\n",
       ".dataframe > tbody > tr {\n",
       "  text-align: right;\n",
       "  white-space: pre-wrap;\n",
       "}\n",
       "</style>\n",
       "<small>shape: (5, 8)</small><table border=\"1\" class=\"dataframe\"><thead><tr><th>dni</th><th>apellidos_nombres</th><th>puntaje</th><th>condicion</th><th>anio</th><th>periodo</th><th>modalidad_ingreso</th><th>carrera</th></tr><tr><td>str</td><td>str</td><td>str</td><td>str</td><td>str</td><td>str</td><td>str</td><td>str</td></tr></thead><tbody><tr><td>&quot;73144035&quot;</td><td>&quot;Hernandez Guerrero Luis Javier&quot;</td><td>&quot;1482.500&quot;</td><td>&quot;INGRESO&quot;</td><td>&quot;2018&quot;</td><td>&quot;I&quot;</td><td>&quot;EDUCACIÓN BÁSICA REGULAR Y EDU…</td><td>&quot;: ADMINISTRACIÓN&quot;</td></tr><tr><td>&quot;75024298&quot;</td><td>&quot;Martinez Vera Cesia Dolly&quot;</td><td>&quot;1445.000&quot;</td><td>&quot;INGRESO&quot;</td><td>&quot;2018&quot;</td><td>&quot;I&quot;</td><td>&quot;EDUCACIÓN BÁSICA REGULAR Y EDU…</td><td>&quot;: ADMINISTRACIÓN&quot;</td></tr><tr><td>&quot;70280465&quot;</td><td>&quot;Ham Orellana Sul Ki&quot;</td><td>&quot;1427.500&quot;</td><td>&quot;INGRESO&quot;</td><td>&quot;2018&quot;</td><td>&quot;I&quot;</td><td>&quot;EDUCACIÓN BÁSICA REGULAR Y EDU…</td><td>&quot;: ADMINISTRACIÓN&quot;</td></tr><tr><td>&quot;45072853&quot;</td><td>&quot;Bertolotti Salcedo Ida Zuleyma&quot;</td><td>&quot;1422.500&quot;</td><td>&quot;INGRESO&quot;</td><td>&quot;2018&quot;</td><td>&quot;I&quot;</td><td>&quot;EDUCACIÓN BÁSICA REGULAR Y EDU…</td><td>&quot;: ADMINISTRACIÓN&quot;</td></tr><tr><td>&quot;71991078&quot;</td><td>&quot;Mantari Misaico Lucia Jeanet&quot;</td><td>&quot;1401.250&quot;</td><td>&quot;INGRESO&quot;</td><td>&quot;2018&quot;</td><td>&quot;I&quot;</td><td>&quot;EDUCACIÓN BÁSICA REGULAR Y EDU…</td><td>&quot;: ADMINISTRACIÓN&quot;</td></tr></tbody></table></div>"
      ],
      "text/plain": [
       "shape: (5, 8)\n",
       "┌──────────┬───────────────┬──────────┬───────────┬──────┬─────────┬───────────────┬───────────────┐\n",
       "│ dni      ┆ apellidos_nom ┆ puntaje  ┆ condicion ┆ anio ┆ periodo ┆ modalidad_ing ┆ carrera       │\n",
       "│ ---      ┆ bres          ┆ ---      ┆ ---       ┆ ---  ┆ ---     ┆ reso          ┆ ---           │\n",
       "│ str      ┆ ---           ┆ str      ┆ str       ┆ str  ┆ str     ┆ ---           ┆ str           │\n",
       "│          ┆ str           ┆          ┆           ┆      ┆         ┆ str           ┆               │\n",
       "╞══════════╪═══════════════╪══════════╪═══════════╪══════╪═════════╪═══════════════╪═══════════════╡\n",
       "│ 73144035 ┆ Hernandez     ┆ 1482.500 ┆ INGRESO   ┆ 2018 ┆ I       ┆ EDUCACIÓN     ┆ : ADMINISTRAC │\n",
       "│          ┆ Guerrero Luis ┆          ┆           ┆      ┆         ┆ BÁSICA        ┆ IÓN           │\n",
       "│          ┆ Javier        ┆          ┆           ┆      ┆         ┆ REGULAR Y     ┆               │\n",
       "│          ┆               ┆          ┆           ┆      ┆         ┆ EDU…          ┆               │\n",
       "│ 75024298 ┆ Martinez Vera ┆ 1445.000 ┆ INGRESO   ┆ 2018 ┆ I       ┆ EDUCACIÓN     ┆ : ADMINISTRAC │\n",
       "│          ┆ Cesia Dolly   ┆          ┆           ┆      ┆         ┆ BÁSICA        ┆ IÓN           │\n",
       "│          ┆               ┆          ┆           ┆      ┆         ┆ REGULAR Y     ┆               │\n",
       "│          ┆               ┆          ┆           ┆      ┆         ┆ EDU…          ┆               │\n",
       "│ 70280465 ┆ Ham Orellana  ┆ 1427.500 ┆ INGRESO   ┆ 2018 ┆ I       ┆ EDUCACIÓN     ┆ : ADMINISTRAC │\n",
       "│          ┆ Sul Ki        ┆          ┆           ┆      ┆         ┆ BÁSICA        ┆ IÓN           │\n",
       "│          ┆               ┆          ┆           ┆      ┆         ┆ REGULAR Y     ┆               │\n",
       "│          ┆               ┆          ┆           ┆      ┆         ┆ EDU…          ┆               │\n",
       "│ 45072853 ┆ Bertolotti    ┆ 1422.500 ┆ INGRESO   ┆ 2018 ┆ I       ┆ EDUCACIÓN     ┆ : ADMINISTRAC │\n",
       "│          ┆ Salcedo Ida   ┆          ┆           ┆      ┆         ┆ BÁSICA        ┆ IÓN           │\n",
       "│          ┆ Zuleyma       ┆          ┆           ┆      ┆         ┆ REGULAR Y     ┆               │\n",
       "│          ┆               ┆          ┆           ┆      ┆         ┆ EDU…          ┆               │\n",
       "│ 71991078 ┆ Mantari       ┆ 1401.250 ┆ INGRESO   ┆ 2018 ┆ I       ┆ EDUCACIÓN     ┆ : ADMINISTRAC │\n",
       "│          ┆ Misaico Lucia ┆          ┆           ┆      ┆         ┆ BÁSICA        ┆ IÓN           │\n",
       "│          ┆ Jeanet        ┆          ┆           ┆      ┆         ┆ REGULAR Y     ┆               │\n",
       "│          ┆               ┆          ┆           ┆      ┆         ┆ EDU…          ┆               │\n",
       "└──────────┴───────────────┴──────────┴───────────┴──────┴─────────┴───────────────┴───────────────┘"
      ]
     },
     "execution_count": 5,
     "metadata": {},
     "output_type": "execute_result"
    }
   ],
   "source": [
    "df2.head()"
   ]
  },
  {
   "cell_type": "markdown",
   "id": "27f2f49a",
   "metadata": {},
   "source": [
    "#### PANORAMA GENERAL"
   ]
  },
  {
   "cell_type": "code",
   "execution_count": 6,
   "id": "619c0ab1",
   "metadata": {},
   "outputs": [
    {
     "data": {
      "text/html": [
       "<div><style>\n",
       ".dataframe > thead > tr,\n",
       ".dataframe > tbody > tr {\n",
       "  text-align: right;\n",
       "  white-space: pre-wrap;\n",
       "}\n",
       "</style>\n",
       "<small>shape: (9, 9)</small><table border=\"1\" class=\"dataframe\"><thead><tr><th>statistic</th><th>dni</th><th>apellidos_nombres</th><th>puntaje</th><th>condicion</th><th>anio</th><th>periodo</th><th>modalidad_ingreso</th><th>carrera</th></tr><tr><td>str</td><td>str</td><td>str</td><td>str</td><td>str</td><td>str</td><td>str</td><td>str</td><td>str</td></tr></thead><tbody><tr><td>&quot;count&quot;</td><td>&quot;65224&quot;</td><td>&quot;65224&quot;</td><td>&quot;65224&quot;</td><td>&quot;65224&quot;</td><td>&quot;65224&quot;</td><td>&quot;57163&quot;</td><td>&quot;59213&quot;</td><td>&quot;65224&quot;</td></tr><tr><td>&quot;null_count&quot;</td><td>&quot;0&quot;</td><td>&quot;0&quot;</td><td>&quot;0&quot;</td><td>&quot;0&quot;</td><td>&quot;0&quot;</td><td>&quot;8061&quot;</td><td>&quot;6011&quot;</td><td>&quot;0&quot;</td></tr><tr><td>&quot;mean&quot;</td><td>null</td><td>null</td><td>null</td><td>null</td><td>null</td><td>null</td><td>null</td><td>null</td></tr><tr><td>&quot;std&quot;</td><td>null</td><td>null</td><td>null</td><td>null</td><td>null</td><td>null</td><td>null</td><td>null</td></tr><tr><td>&quot;min&quot;</td><td>&quot;00264931&quot;</td><td>&quot;Abad Aguilar, Karen Dayana&quot;</td><td>&quot;-0.0038&quot;</td><td>&quot;ANULADO&quot;</td><td>&quot;2018&quot;</td><td>&quot;I&quot;</td><td>&quot;1ER Y 2DO PUESTO DE I.E.&quot;</td><td>&quot;: ADMINISTRACIÓN&quot;</td></tr><tr><td>&quot;25%&quot;</td><td>null</td><td>null</td><td>null</td><td>null</td><td>null</td><td>null</td><td>null</td><td>null</td></tr><tr><td>&quot;50%&quot;</td><td>null</td><td>null</td><td>null</td><td>null</td><td>null</td><td>null</td><td>null</td><td>null</td></tr><tr><td>&quot;75%&quot;</td><td>null</td><td>null</td><td>null</td><td>null</td><td>null</td><td>null</td><td>null</td><td>null</td></tr><tr><td>&quot;max&quot;</td><td>&quot;98026829&quot;</td><td>&quot;Ñuñuvera Julca Elias Ignacio&quot;</td><td>&quot;AUSENTE&quot;</td><td>&quot;NO INGRESO&quot;</td><td>&quot;2025&quot;</td><td>&quot;II&quot;</td><td>&quot;VICTIMAS DEL TERRORISMO&quot;</td><td>&quot;TURISMO&quot;</td></tr></tbody></table></div>"
      ],
      "text/plain": [
       "shape: (9, 9)\n",
       "┌────────────┬──────────┬──────────────┬─────────┬───┬───────┬─────────┬─────────────┬─────────────┐\n",
       "│ statistic  ┆ dni      ┆ apellidos_no ┆ puntaje ┆ … ┆ anio  ┆ periodo ┆ modalidad_i ┆ carrera     │\n",
       "│ ---        ┆ ---      ┆ mbres        ┆ ---     ┆   ┆ ---   ┆ ---     ┆ ngreso      ┆ ---         │\n",
       "│ str        ┆ str      ┆ ---          ┆ str     ┆   ┆ str   ┆ str     ┆ ---         ┆ str         │\n",
       "│            ┆          ┆ str          ┆         ┆   ┆       ┆         ┆ str         ┆             │\n",
       "╞════════════╪══════════╪══════════════╪═════════╪═══╪═══════╪═════════╪═════════════╪═════════════╡\n",
       "│ count      ┆ 65224    ┆ 65224        ┆ 65224   ┆ … ┆ 65224 ┆ 57163   ┆ 59213       ┆ 65224       │\n",
       "│ null_count ┆ 0        ┆ 0            ┆ 0       ┆ … ┆ 0     ┆ 8061    ┆ 6011        ┆ 0           │\n",
       "│ mean       ┆ null     ┆ null         ┆ null    ┆ … ┆ null  ┆ null    ┆ null        ┆ null        │\n",
       "│ std        ┆ null     ┆ null         ┆ null    ┆ … ┆ null  ┆ null    ┆ null        ┆ null        │\n",
       "│ min        ┆ 00264931 ┆ Abad         ┆ -0.0038 ┆ … ┆ 2018  ┆ I       ┆ 1ER Y 2DO   ┆ : ADMINISTR │\n",
       "│            ┆          ┆ Aguilar,     ┆         ┆   ┆       ┆         ┆ PUESTO DE   ┆ ACIÓN       │\n",
       "│            ┆          ┆ Karen Dayana ┆         ┆   ┆       ┆         ┆ I.E.        ┆             │\n",
       "│ 25%        ┆ null     ┆ null         ┆ null    ┆ … ┆ null  ┆ null    ┆ null        ┆ null        │\n",
       "│ 50%        ┆ null     ┆ null         ┆ null    ┆ … ┆ null  ┆ null    ┆ null        ┆ null        │\n",
       "│ 75%        ┆ null     ┆ null         ┆ null    ┆ … ┆ null  ┆ null    ┆ null        ┆ null        │\n",
       "│ max        ┆ 98026829 ┆ Ñuñuvera     ┆ AUSENTE ┆ … ┆ 2025  ┆ II      ┆ VICTIMAS    ┆ TURISMO     │\n",
       "│            ┆          ┆ Julca Elias  ┆         ┆   ┆       ┆         ┆ DEL         ┆             │\n",
       "│            ┆          ┆ Ignacio      ┆         ┆   ┆       ┆         ┆ TERRORISMO  ┆             │\n",
       "└────────────┴──────────┴──────────────┴─────────┴───┴───────┴─────────┴─────────────┴─────────────┘"
      ]
     },
     "execution_count": 6,
     "metadata": {},
     "output_type": "execute_result"
    }
   ],
   "source": [
    "df2.describe()"
   ]
  },
  {
   "cell_type": "markdown",
   "id": "df6ec005",
   "metadata": {},
   "source": [
    "#### VERIFICAMOS QUE SE HAYAN CONCATENADO CORRECTAMENTE PARA LOS AÑOS 2018-2024"
   ]
  },
  {
   "cell_type": "code",
   "execution_count": 7,
   "id": "5f77ff38",
   "metadata": {},
   "outputs": [
    {
     "data": {
      "text/html": [
       "<div><style>\n",
       ".dataframe > thead > tr,\n",
       ".dataframe > tbody > tr {\n",
       "  text-align: right;\n",
       "  white-space: pre-wrap;\n",
       "}\n",
       "</style>\n",
       "<small>shape: (6,)</small><table border=\"1\" class=\"dataframe\"><thead><tr><th>anio</th></tr><tr><td>str</td></tr></thead><tbody><tr><td>&quot;2018&quot;</td></tr><tr><td>&quot;2019&quot;</td></tr><tr><td>&quot;2022&quot;</td></tr><tr><td>&quot;2023&quot;</td></tr><tr><td>&quot;2024&quot;</td></tr><tr><td>&quot;2025&quot;</td></tr></tbody></table></div>"
      ],
      "text/plain": [
       "shape: (6,)\n",
       "Series: 'anio' [str]\n",
       "[\n",
       "\t\"2018\"\n",
       "\t\"2019\"\n",
       "\t\"2022\"\n",
       "\t\"2023\"\n",
       "\t\"2024\"\n",
       "\t\"2025\"\n",
       "]"
      ]
     },
     "execution_count": 7,
     "metadata": {},
     "output_type": "execute_result"
    }
   ],
   "source": [
    "# VERIFICAMOS LOS AÑOS\n",
    "df2['anio'].unique().sort()"
   ]
  },
  {
   "cell_type": "code",
   "execution_count": 8,
   "id": "c92457bc",
   "metadata": {},
   "outputs": [
    {
     "data": {
      "text/html": [
       "<div><style>\n",
       ".dataframe > thead > tr,\n",
       ".dataframe > tbody > tr {\n",
       "  text-align: right;\n",
       "  white-space: pre-wrap;\n",
       "}\n",
       "</style>\n",
       "<small>shape: (3,)</small><table border=\"1\" class=\"dataframe\"><thead><tr><th>periodo</th></tr><tr><td>str</td></tr></thead><tbody><tr><td>null</td></tr><tr><td>&quot;I&quot;</td></tr><tr><td>&quot;II&quot;</td></tr></tbody></table></div>"
      ],
      "text/plain": [
       "shape: (3,)\n",
       "Series: 'periodo' [str]\n",
       "[\n",
       "\tnull\n",
       "\t\"I\"\n",
       "\t\"II\"\n",
       "]"
      ]
     },
     "execution_count": 8,
     "metadata": {},
     "output_type": "execute_result"
    }
   ],
   "source": [
    "# VERIFICAMOS LOS PERIODOS( I Y II)\n",
    "df2['periodo'].unique().sort()"
   ]
  },
  {
   "cell_type": "code",
   "execution_count": 9,
   "id": "f3239c1a",
   "metadata": {},
   "outputs": [
    {
     "data": {
      "text/html": [
       "<div><style>\n",
       ".dataframe > thead > tr,\n",
       ".dataframe > tbody > tr {\n",
       "  text-align: right;\n",
       "  white-space: pre-wrap;\n",
       "}\n",
       "</style>\n",
       "<small>shape: (4,)</small><table border=\"1\" class=\"dataframe\"><thead><tr><th>condicion</th></tr><tr><td>str</td></tr></thead><tbody><tr><td>&quot;AUSENTE&quot;</td></tr><tr><td>&quot;NO INGRESO&quot;</td></tr><tr><td>&quot;ANULADO&quot;</td></tr><tr><td>&quot;INGRESO&quot;</td></tr></tbody></table></div>"
      ],
      "text/plain": [
       "shape: (4,)\n",
       "Series: 'condicion' [str]\n",
       "[\n",
       "\t\"AUSENTE\"\n",
       "\t\"NO INGRESO\"\n",
       "\t\"ANULADO\"\n",
       "\t\"INGRESO\"\n",
       "]"
      ]
     },
     "execution_count": 9,
     "metadata": {},
     "output_type": "execute_result"
    }
   ],
   "source": [
    "# CONDICION\n",
    "df2['condicion'].unique()"
   ]
  },
  {
   "cell_type": "code",
   "execution_count": 10,
   "id": "b3cda6c2",
   "metadata": {},
   "outputs": [
    {
     "data": {
      "text/plain": [
       "['INGENIERÍA DE SISTEMAS',\n",
       " 'P04: FÍSICA',\n",
       " 'INGENIERÍA AMBIENTAL Y SANITARIA',\n",
       " 'P10: ARQUEOLOGÍA',\n",
       " 'MATEMATICA E INFORMATICA',\n",
       " 'CIENCIAS DE LA EDUCACIÓN EN HISTORIA Y GEOGRAFÍA',\n",
       " 'P14: CIENCIAS DE LA EDUCACIÓN EN HISTORIA Y GEOGRAFÍA']"
      ]
     },
     "execution_count": 10,
     "metadata": {},
     "output_type": "execute_result"
    }
   ],
   "source": [
    "# VERIFICAMOS LAS CARRERAS\n",
    "list(df2['carrera'].unique().head(7))"
   ]
  },
  {
   "cell_type": "code",
   "execution_count": 11,
   "id": "d6f6086d",
   "metadata": {},
   "outputs": [
    {
     "data": {
      "text/plain": [
       "['ORDINARIO',\n",
       " 'DEPORTISTAS DESTACADOS',\n",
       " 'PERSONAS CON DISCAPACIDAD',\n",
       " 'VICTIMAS DE TERRORISMO',\n",
       " 'EDUCACIÓN BÁSICA REGULAR Y EDUCACIÓN BÁSICA ALTERNATIVA',\n",
       " 'VICTIMAS DEL TERRORISMO',\n",
       " 'ADMISIÓN ORDINARIA']"
      ]
     },
     "execution_count": 11,
     "metadata": {},
     "output_type": "execute_result"
    }
   ],
   "source": [
    "# VERIFICAMOS LAS MODALIDADES\n",
    "list(df2['modalidad_ingreso'].unique().head(7))"
   ]
  },
  {
   "cell_type": "markdown",
   "id": "a081bba3",
   "metadata": {},
   "source": [
    "SE OBSERVA INCOSISTENCIAS PARA LA MODALIDAD Y CARRERA QUE SE VA A CORREGIR POSTERIORMENTE"
   ]
  },
  {
   "cell_type": "markdown",
   "id": "046c5af2",
   "metadata": {},
   "source": [
    "#### VERIFICAR LOS TIPOS DE DATOS"
   ]
  },
  {
   "cell_type": "code",
   "execution_count": 12,
   "id": "74004e01",
   "metadata": {},
   "outputs": [
    {
     "name": "stdout",
     "output_type": "stream",
     "text": [
      "Nombre: dni - Tipo: String\n",
      "Nombre: apellidos_nombres - Tipo: String\n",
      "Nombre: puntaje - Tipo: String\n",
      "Nombre: condicion - Tipo: String\n",
      "Nombre: anio - Tipo: String\n",
      "Nombre: periodo - Tipo: String\n",
      "Nombre: modalidad_ingreso - Tipo: String\n",
      "Nombre: carrera - Tipo: String\n"
     ]
    }
   ],
   "source": [
    "for campo, tipo in df2.schema.items():\n",
    "    print(f'Nombre: {campo} - Tipo: {tipo}')"
   ]
  },
  {
   "cell_type": "markdown",
   "id": "76d55f85",
   "metadata": {},
   "source": [
    "RENOMBRAMOS COLUMNAS"
   ]
  },
  {
   "cell_type": "code",
   "execution_count": 13,
   "id": "695b0f71",
   "metadata": {},
   "outputs": [],
   "source": [
    "df2 = df2.rename({\n",
    "    'dni' : 'DNI',\n",
    "    'apellidos_nombres' : 'APELLIDOS Y NOMBRES',\n",
    "    'puntaje' :'PUNTAJE',\n",
    "    'condicion' : 'CONDICION',\n",
    "    'anio' : 'AÑO',\n",
    "    'periodo' : 'PERIODO',\n",
    "    'modalidad_ingreso' : 'MODALIDAD',\n",
    "    'carrera' : 'CARRERA'\n",
    "    })"
   ]
  },
  {
   "cell_type": "code",
   "execution_count": 14,
   "id": "ba4f4e1a",
   "metadata": {},
   "outputs": [
    {
     "data": {
      "text/html": [
       "<div><style>\n",
       ".dataframe > thead > tr,\n",
       ".dataframe > tbody > tr {\n",
       "  text-align: right;\n",
       "  white-space: pre-wrap;\n",
       "}\n",
       "</style>\n",
       "<small>shape: (2, 8)</small><table border=\"1\" class=\"dataframe\"><thead><tr><th>DNI</th><th>APELLIDOS Y NOMBRES</th><th>PUNTAJE</th><th>CONDICION</th><th>AÑO</th><th>PERIODO</th><th>MODALIDAD</th><th>CARRERA</th></tr><tr><td>str</td><td>str</td><td>str</td><td>str</td><td>str</td><td>str</td><td>str</td><td>str</td></tr></thead><tbody><tr><td>&quot;73144035&quot;</td><td>&quot;Hernandez Guerrero Luis Javier&quot;</td><td>&quot;1482.500&quot;</td><td>&quot;INGRESO&quot;</td><td>&quot;2018&quot;</td><td>&quot;I&quot;</td><td>&quot;EDUCACIÓN BÁSICA REGULAR Y EDU…</td><td>&quot;: ADMINISTRACIÓN&quot;</td></tr><tr><td>&quot;75024298&quot;</td><td>&quot;Martinez Vera Cesia Dolly&quot;</td><td>&quot;1445.000&quot;</td><td>&quot;INGRESO&quot;</td><td>&quot;2018&quot;</td><td>&quot;I&quot;</td><td>&quot;EDUCACIÓN BÁSICA REGULAR Y EDU…</td><td>&quot;: ADMINISTRACIÓN&quot;</td></tr></tbody></table></div>"
      ],
      "text/plain": [
       "shape: (2, 8)\n",
       "┌──────────┬─────────────────┬──────────┬───────────┬──────┬─────────┬───────────┬─────────────────┐\n",
       "│ DNI      ┆ APELLIDOS Y     ┆ PUNTAJE  ┆ CONDICION ┆ AÑO  ┆ PERIODO ┆ MODALIDAD ┆ CARRERA         │\n",
       "│ ---      ┆ NOMBRES         ┆ ---      ┆ ---       ┆ ---  ┆ ---     ┆ ---       ┆ ---             │\n",
       "│ str      ┆ ---             ┆ str      ┆ str       ┆ str  ┆ str     ┆ str       ┆ str             │\n",
       "│          ┆ str             ┆          ┆           ┆      ┆         ┆           ┆                 │\n",
       "╞══════════╪═════════════════╪══════════╪═══════════╪══════╪═════════╪═══════════╪═════════════════╡\n",
       "│ 73144035 ┆ Hernandez       ┆ 1482.500 ┆ INGRESO   ┆ 2018 ┆ I       ┆ EDUCACIÓN ┆ :               │\n",
       "│          ┆ Guerrero Luis   ┆          ┆           ┆      ┆         ┆ BÁSICA    ┆ ADMINISTRACIÓN  │\n",
       "│          ┆ Javier          ┆          ┆           ┆      ┆         ┆ REGULAR Y ┆                 │\n",
       "│          ┆                 ┆          ┆           ┆      ┆         ┆ EDU…      ┆                 │\n",
       "│ 75024298 ┆ Martinez Vera   ┆ 1445.000 ┆ INGRESO   ┆ 2018 ┆ I       ┆ EDUCACIÓN ┆ :               │\n",
       "│          ┆ Cesia Dolly     ┆          ┆           ┆      ┆         ┆ BÁSICA    ┆ ADMINISTRACIÓN  │\n",
       "│          ┆                 ┆          ┆           ┆      ┆         ┆ REGULAR Y ┆                 │\n",
       "│          ┆                 ┆          ┆           ┆      ┆         ┆ EDU…      ┆                 │\n",
       "└──────────┴─────────────────┴──────────┴───────────┴──────┴─────────┴───────────┴─────────────────┘"
      ]
     },
     "execution_count": 14,
     "metadata": {},
     "output_type": "execute_result"
    }
   ],
   "source": [
    "df2.head(2)"
   ]
  },
  {
   "cell_type": "markdown",
   "id": "ace2339f",
   "metadata": {},
   "source": [
    "#### Verificamos si hay datos anomalos"
   ]
  },
  {
   "cell_type": "markdown",
   "id": "e1da9920",
   "metadata": {},
   "source": [
    "DNIS"
   ]
  },
  {
   "cell_type": "code",
   "execution_count": 15,
   "id": "86b94e6e",
   "metadata": {},
   "outputs": [
    {
     "data": {
      "text/html": [
       "<div><style>\n",
       ".dataframe > thead > tr,\n",
       ".dataframe > tbody > tr {\n",
       "  text-align: right;\n",
       "  white-space: pre-wrap;\n",
       "}\n",
       "</style>\n",
       "<small>shape: (1, 8)</small><table border=\"1\" class=\"dataframe\"><thead><tr><th>DNI</th><th>APELLIDOS Y NOMBRES</th><th>PUNTAJE</th><th>CONDICION</th><th>AÑO</th><th>PERIODO</th><th>MODALIDAD</th><th>CARRERA</th></tr><tr><td>str</td><td>str</td><td>str</td><td>str</td><td>str</td><td>str</td><td>str</td><td>str</td></tr></thead><tbody><tr><td>&quot;703495&quot;</td><td>&quot;Alvarez Peña Alvaro Edwin&quot;</td><td>&quot;AUSENTE&quot;</td><td>&quot;NO INGRESO&quot;</td><td>&quot;2018&quot;</td><td>&quot;II&quot;</td><td>&quot;EDUCACIÓN BÁSICA REGULAR Y EDU…</td><td>&quot;: INGENIERÍA CIVIL&quot;</td></tr></tbody></table></div>"
      ],
      "text/plain": [
       "shape: (1, 8)\n",
       "┌────────┬──────────────────────┬─────────┬────────────┬──────┬─────────┬───────────┬──────────────┐\n",
       "│ DNI    ┆ APELLIDOS Y NOMBRES  ┆ PUNTAJE ┆ CONDICION  ┆ AÑO  ┆ PERIODO ┆ MODALIDAD ┆ CARRERA      │\n",
       "│ ---    ┆ ---                  ┆ ---     ┆ ---        ┆ ---  ┆ ---     ┆ ---       ┆ ---          │\n",
       "│ str    ┆ str                  ┆ str     ┆ str        ┆ str  ┆ str     ┆ str       ┆ str          │\n",
       "╞════════╪══════════════════════╪═════════╪════════════╪══════╪═════════╪═══════════╪══════════════╡\n",
       "│ 703495 ┆ Alvarez Peña Alvaro  ┆ AUSENTE ┆ NO INGRESO ┆ 2018 ┆ II      ┆ EDUCACIÓN ┆ : INGENIERÍA │\n",
       "│        ┆ Edwin                ┆         ┆            ┆      ┆         ┆ BÁSICA    ┆ CIVIL        │\n",
       "│        ┆                      ┆         ┆            ┆      ┆         ┆ REGULAR Y ┆              │\n",
       "│        ┆                      ┆         ┆            ┆      ┆         ┆ EDU…      ┆              │\n",
       "└────────┴──────────────────────┴─────────┴────────────┴──────┴─────────┴───────────┴──────────────┘"
      ]
     },
     "execution_count": 15,
     "metadata": {},
     "output_type": "execute_result"
    }
   ],
   "source": [
    "df2.filter(\n",
    "    pl.col('DNI').cast(pl.Utf8).str.len_chars() < 8\n",
    ")"
   ]
  },
  {
   "cell_type": "markdown",
   "id": "a85f7dba",
   "metadata": {},
   "source": [
    "COMO SE OBSERVA SOLO TENEMOS UN REGISTRO CON DNI DE 6 DIGITOS"
   ]
  },
  {
   "cell_type": "markdown",
   "id": "06aa8a82",
   "metadata": {},
   "source": [
    "APELLIDOS Y NOMBRES"
   ]
  },
  {
   "cell_type": "code",
   "execution_count": 16,
   "id": "db93ed42",
   "metadata": {},
   "outputs": [
    {
     "data": {
      "text/html": [
       "<div><style>\n",
       ".dataframe > thead > tr,\n",
       ".dataframe > tbody > tr {\n",
       "  text-align: right;\n",
       "  white-space: pre-wrap;\n",
       "}\n",
       "</style>\n",
       "<small>shape: (0, 1)</small><table border=\"1\" class=\"dataframe\"><thead><tr><th>APELLIDOS Y NOMBRES</th></tr><tr><td>str</td></tr></thead><tbody></tbody></table></div>"
      ],
      "text/plain": [
       "shape: (0, 1)\n",
       "┌─────────────────────┐\n",
       "│ APELLIDOS Y NOMBRES │\n",
       "│ ---                 │\n",
       "│ str                 │\n",
       "╞═════════════════════╡\n",
       "└─────────────────────┘"
      ]
     },
     "execution_count": 16,
     "metadata": {},
     "output_type": "execute_result"
    }
   ],
   "source": [
    "df2.filter(\n",
    "    pl.col(\"APELLIDOS Y NOMBRES\")\n",
    "    .str.strip_chars()\n",
    "    .str.contains(r\"^\\d+$\")\n",
    ").select([\"APELLIDOS Y NOMBRES\"]).unique()"
   ]
  },
  {
   "cell_type": "markdown",
   "id": "b119a69a",
   "metadata": {},
   "source": [
    "PUNTAJE"
   ]
  },
  {
   "cell_type": "code",
   "execution_count": 17,
   "id": "c764f0a4",
   "metadata": {},
   "outputs": [
    {
     "data": {
      "text/html": [
       "<div><style>\n",
       ".dataframe > thead > tr,\n",
       ".dataframe > tbody > tr {\n",
       "  text-align: right;\n",
       "  white-space: pre-wrap;\n",
       "}\n",
       "</style>\n",
       "<small>shape: (2, 1)</small><table border=\"1\" class=\"dataframe\"><thead><tr><th>PUNTAJE</th></tr><tr><td>str</td></tr></thead><tbody><tr><td>&quot;ANULADO&quot;</td></tr><tr><td>&quot;AUSENTE&quot;</td></tr></tbody></table></div>"
      ],
      "text/plain": [
       "shape: (2, 1)\n",
       "┌─────────┐\n",
       "│ PUNTAJE │\n",
       "│ ---     │\n",
       "│ str     │\n",
       "╞═════════╡\n",
       "│ ANULADO │\n",
       "│ AUSENTE │\n",
       "└─────────┘"
      ]
     },
     "execution_count": 17,
     "metadata": {},
     "output_type": "execute_result"
    }
   ],
   "source": [
    "df2.filter(\n",
    "    pl.col('PUNTAJE').cast(pl.Float64, strict=False).is_null()\n",
    ").select(['PUNTAJE']).unique()"
   ]
  },
  {
   "cell_type": "markdown",
   "id": "7dee03a6",
   "metadata": {},
   "source": [
    "### LIMPIEZA Y TRANFORMACION"
   ]
  },
  {
   "cell_type": "markdown",
   "id": "164f50c0",
   "metadata": {},
   "source": [
    "<p style=\"\n",
    "  display: inline-block;\n",
    "  font-size: 18px;\n",
    "  font-weight: bold;\n",
    "  font-style: italic;\n",
    "  background-color: #fce4ec;\n",
    "  color: #880e4f;\n",
    "  padding: 6px;\n",
    "  border-radius: 5px;\n",
    "  margin: 0;\n",
    "\">\n",
    "  A) COLUMNA DNI\n",
    "</p>"
   ]
  },
  {
   "cell_type": "markdown",
   "id": "818d492c",
   "metadata": {},
   "source": [
    "### Tratamiento del campo `DNI` como texto (`Utf8`)\n",
    "\n",
    "## Propósito del campo\n",
    "El campo `DNI` representa un identificador único de postulante y no un valor numérico con fines de cálculo.\n",
    "\n",
    "## Razones para mantener `DNI` como texto (`Utf8`)\n",
    "\n",
    "1. Preservación de ceros a la izquierda  \n",
    "   Algunos DNIs válidos comienzan con `00`, `01`, etc.  \n",
    "   Al convertirlos a enteros, los ceros se eliminan:\n",
    "   \"00559676\" → int → 559676\n",
    "\n",
    "2. Formato estándar de 8 dígitos  \n",
    "   El DNI debe tener exactamente 8 caracteres. Tratarlo como número puede generar errores de validación.\n",
    "\n",
    "3. Evita errores en herramientas externas  \n",
    "   Al exportar a Excel, CSV o Power BI, los DNIs numéricos pueden perder ceros o alterarse visualmente.\n",
    "\n",
    "4. No se requiere realizar operaciones matemáticas  \n",
    "   El DNI es un identificador. No se suma ni se usa en cálculos.\n",
    "\n",
    "## Decisión técnica\n",
    "\n",
    "La columna `DNI` se mantiene como tipo `Utf8` (texto) en todas las etapas del pipeline (carga, limpieza, análisis y exportación) para garantizar:\n",
    "\n",
    "- Integridad del dato\n",
    "- Compatibilidad con sistemas externos\n",
    "- Formato visual correcto\n",
    "- Consistencia en validaciones y comparaciones"
   ]
  },
  {
   "cell_type": "code",
   "execution_count": 18,
   "id": "08676011",
   "metadata": {},
   "outputs": [],
   "source": [
    "# SE CONVIERTE LA COLUMNA DNI A UTF8\n",
    "df2 = df2.with_columns(\n",
    "        pl.col(\"DNI\").cast(pl.Utf8).alias(\"DNI\"))"
   ]
  },
  {
   "cell_type": "markdown",
   "id": "d69934c6",
   "metadata": {},
   "source": [
    "VERIFICAMOS NUEVAMENTE QUE SOLO HAYA QUEDADO ESE REGISTRO CON 6 DIGITOS"
   ]
  },
  {
   "cell_type": "code",
   "execution_count": 19,
   "id": "3aee6d57",
   "metadata": {},
   "outputs": [
    {
     "data": {
      "text/html": [
       "<div><style>\n",
       ".dataframe > thead > tr,\n",
       ".dataframe > tbody > tr {\n",
       "  text-align: right;\n",
       "  white-space: pre-wrap;\n",
       "}\n",
       "</style>\n",
       "<small>shape: (1, 8)</small><table border=\"1\" class=\"dataframe\"><thead><tr><th>DNI</th><th>APELLIDOS Y NOMBRES</th><th>PUNTAJE</th><th>CONDICION</th><th>AÑO</th><th>PERIODO</th><th>MODALIDAD</th><th>CARRERA</th></tr><tr><td>str</td><td>str</td><td>str</td><td>str</td><td>str</td><td>str</td><td>str</td><td>str</td></tr></thead><tbody><tr><td>&quot;703495&quot;</td><td>&quot;Alvarez Peña Alvaro Edwin&quot;</td><td>&quot;AUSENTE&quot;</td><td>&quot;NO INGRESO&quot;</td><td>&quot;2018&quot;</td><td>&quot;II&quot;</td><td>&quot;EDUCACIÓN BÁSICA REGULAR Y EDU…</td><td>&quot;: INGENIERÍA CIVIL&quot;</td></tr></tbody></table></div>"
      ],
      "text/plain": [
       "shape: (1, 8)\n",
       "┌────────┬──────────────────────┬─────────┬────────────┬──────┬─────────┬───────────┬──────────────┐\n",
       "│ DNI    ┆ APELLIDOS Y NOMBRES  ┆ PUNTAJE ┆ CONDICION  ┆ AÑO  ┆ PERIODO ┆ MODALIDAD ┆ CARRERA      │\n",
       "│ ---    ┆ ---                  ┆ ---     ┆ ---        ┆ ---  ┆ ---     ┆ ---       ┆ ---          │\n",
       "│ str    ┆ str                  ┆ str     ┆ str        ┆ str  ┆ str     ┆ str       ┆ str          │\n",
       "╞════════╪══════════════════════╪═════════╪════════════╪══════╪═════════╪═══════════╪══════════════╡\n",
       "│ 703495 ┆ Alvarez Peña Alvaro  ┆ AUSENTE ┆ NO INGRESO ┆ 2018 ┆ II      ┆ EDUCACIÓN ┆ : INGENIERÍA │\n",
       "│        ┆ Edwin                ┆         ┆            ┆      ┆         ┆ BÁSICA    ┆ CIVIL        │\n",
       "│        ┆                      ┆         ┆            ┆      ┆         ┆ REGULAR Y ┆              │\n",
       "│        ┆                      ┆         ┆            ┆      ┆         ┆ EDU…      ┆              │\n",
       "└────────┴──────────────────────┴─────────┴────────────┴──────┴─────────┴───────────┴──────────────┘"
      ]
     },
     "execution_count": 19,
     "metadata": {},
     "output_type": "execute_result"
    }
   ],
   "source": [
    "df2.filter(\n",
    "    pl.col('DNI').cast(pl.Utf8).str.len_chars() < 8\n",
    ")"
   ]
  },
  {
   "cell_type": "markdown",
   "id": "f14969fe",
   "metadata": {},
   "source": [
    "<p style=\"\n",
    "  display: inline-block;\n",
    "  font-size: 18px;\n",
    "  font-weight: bold;\n",
    "  font-style: italic;\n",
    "  background-color: #fce4ec;\n",
    "  color: #880e4f;\n",
    "  padding: 6px;\n",
    "  border-radius: 5px;\n",
    "  margin: 0;\n",
    "\">\n",
    "  B) COLUMNA APELLIDOS Y NOMBRES\n",
    "</p>"
   ]
  },
  {
   "cell_type": "code",
   "execution_count": 20,
   "id": "7f7aa831",
   "metadata": {},
   "outputs": [],
   "source": [
    "# CONVERTIMOS TODOS LOS REGISTROS A MAYUSCULAS\n",
    "df2 = df2.with_columns(\n",
    "    pl.col('APELLIDOS Y NOMBRES').str.to_uppercase().alias('APELLIDOS Y NOMBRES')\n",
    ")"
   ]
  },
  {
   "cell_type": "markdown",
   "id": "b6afe493",
   "metadata": {},
   "source": [
    "<p style=\"\n",
    "  display: inline-block;\n",
    "  font-size: 18px;\n",
    "  font-weight: bold;\n",
    "  font-style: italic;\n",
    "  background-color: #fce4ec;\n",
    "  color: #880e4f;\n",
    "  padding: 6px;\n",
    "  border-radius: 5px;\n",
    "  margin: 0;\n",
    "\">\n",
    "  C) COLUMNA AÑO\n",
    "</p>"
   ]
  },
  {
   "cell_type": "code",
   "execution_count": 21,
   "id": "61198d15",
   "metadata": {},
   "outputs": [],
   "source": [
    "df2 = df2.with_columns(\n",
    "    pl.col('AÑO').cast(pl.Int64).alias('AÑO')\n",
    ")"
   ]
  },
  {
   "cell_type": "markdown",
   "id": "07064c52",
   "metadata": {},
   "source": [
    "<p style=\"\n",
    "  display: inline-block;\n",
    "  font-size: 18px;\n",
    "  font-weight: bold;\n",
    "  font-style: italic;\n",
    "  background-color: #fce4ec;\n",
    "  color: #880e4f;\n",
    "  padding: 6px;\n",
    "  border-radius: 5px;\n",
    "  margin: 0;\n",
    "\">\n",
    "  D) COLUMNA PUNTAJE\n",
    "</p>"
   ]
  },
  {
   "cell_type": "markdown",
   "id": "6be3f2fb",
   "metadata": {},
   "source": [
    "### A LA COLUMNA PUNTAJE SE LE APLICARA LOS SIGUIENTES CAMBIOS"
   ]
  },
  {
   "cell_type": "markdown",
   "id": "27493ca2",
   "metadata": {},
   "source": [
    "Primero verificamos por norma de la universidad para el ultimo el caso de postulantes ausentes o anulados"
   ]
  },
  {
   "cell_type": "code",
   "execution_count": 22,
   "id": "7f3c6875",
   "metadata": {},
   "outputs": [
    {
     "data": {
      "text/html": [
       "<div><style>\n",
       ".dataframe > thead > tr,\n",
       ".dataframe > tbody > tr {\n",
       "  text-align: right;\n",
       "  white-space: pre-wrap;\n",
       "}\n",
       "</style>\n",
       "<small>shape: (2, 2)</small><table border=\"1\" class=\"dataframe\"><thead><tr><th>PUNTAJE</th><th>CONDICION</th></tr><tr><td>str</td><td>str</td></tr></thead><tbody><tr><td>&quot;0.0000&quot;</td><td>&quot;ANULADO&quot;</td></tr><tr><td>&quot;0.0000&quot;</td><td>&quot;AUSENTE&quot;</td></tr></tbody></table></div>"
      ],
      "text/plain": [
       "shape: (2, 2)\n",
       "┌─────────┬───────────┐\n",
       "│ PUNTAJE ┆ CONDICION │\n",
       "│ ---     ┆ ---       │\n",
       "│ str     ┆ str       │\n",
       "╞═════════╪═══════════╡\n",
       "│ 0.0000  ┆ ANULADO   │\n",
       "│ 0.0000  ┆ AUSENTE   │\n",
       "└─────────┴───────────┘"
      ]
     },
     "execution_count": 22,
     "metadata": {},
     "output_type": "execute_result"
    }
   ],
   "source": [
    "df2.filter(\n",
    "    (pl.col('CONDICION').is_in(['AUSENTE', 'ANULADO']) & (pl.col('AÑO') == 2024))\n",
    ").select(['PUNTAJE', 'CONDICION']).unique()"
   ]
  },
  {
   "cell_type": "markdown",
   "id": "6a2390a9",
   "metadata": {},
   "source": [
    "Como se observa para el ultimo examen de admision, si el postulante es ausente o anulado se le asigna un puntaje de 0 y se respeta la condicion, entonces, como se observo en la seccion de datos anomalos, hay registros en la cual la columna puntaje tiene valores de ausente o anulado , como siguiente paso verifiquemos en que años sucedio este caso"
   ]
  },
  {
   "cell_type": "code",
   "execution_count": 23,
   "id": "1c6d7694",
   "metadata": {},
   "outputs": [
    {
     "data": {
      "text/html": [
       "<div><style>\n",
       ".dataframe > thead > tr,\n",
       ".dataframe > tbody > tr {\n",
       "  text-align: right;\n",
       "  white-space: pre-wrap;\n",
       "}\n",
       "</style>\n",
       "<small>shape: (6, 3)</small><table border=\"1\" class=\"dataframe\"><thead><tr><th>AÑO</th><th>PUNTAJE</th><th>Total x Año</th></tr><tr><td>i64</td><td>str</td><td>u32</td></tr></thead><tbody><tr><td>2018</td><td>&quot;AUSENTE&quot;</td><td>363</td></tr><tr><td>2018</td><td>&quot;ANULADO&quot;</td><td>18</td></tr><tr><td>2019</td><td>&quot;AUSENTE&quot;</td><td>76</td></tr><tr><td>2019</td><td>&quot;ANULADO&quot;</td><td>4</td></tr><tr><td>2022</td><td>&quot;AUSENTE&quot;</td><td>106</td></tr><tr><td>2022</td><td>&quot;ANULADO&quot;</td><td>2</td></tr></tbody></table></div>"
      ],
      "text/plain": [
       "shape: (6, 3)\n",
       "┌──────┬─────────┬─────────────┐\n",
       "│ AÑO  ┆ PUNTAJE ┆ Total x Año │\n",
       "│ ---  ┆ ---     ┆ ---         │\n",
       "│ i64  ┆ str     ┆ u32         │\n",
       "╞══════╪═════════╪═════════════╡\n",
       "│ 2018 ┆ AUSENTE ┆ 363         │\n",
       "│ 2018 ┆ ANULADO ┆ 18          │\n",
       "│ 2019 ┆ AUSENTE ┆ 76          │\n",
       "│ 2019 ┆ ANULADO ┆ 4           │\n",
       "│ 2022 ┆ AUSENTE ┆ 106         │\n",
       "│ 2022 ┆ ANULADO ┆ 2           │\n",
       "└──────┴─────────┴─────────────┘"
      ]
     },
     "execution_count": 23,
     "metadata": {},
     "output_type": "execute_result"
    }
   ],
   "source": [
    "df2.filter(\n",
    "    pl.col('PUNTAJE').is_in(['AUSENTE', 'ANULADO'])\n",
    ").group_by(['AÑO', 'PUNTAJE']).agg(\n",
    "    pl.len().alias('Total x Año')\n",
    ").sort(by = 'AÑO', descending = False)"
   ]
  },
  {
   "cell_type": "markdown",
   "id": "4c28d4fd",
   "metadata": {},
   "source": [
    "# Correcciones aplicadas a los datasets de admisión  2018- 2024\n",
    "\n",
    "Debido a este hallazo durante  el proceso de estandarización y control de calidad de los datos históricos de los procesos de admisión de los años 2018, 2019 y 2022,etc se identificaron inconsistencias en los registros de postulantes que no rindieron el examen o cuya evaluación fue anulada.\n",
    "\n",
    "## Problema detectado\n",
    "\n",
    "En los campos `puntaje`, algunos valores aparecían como `\"Ausente\"` o `\"Anulado\"` (tipo `str`), lo que generaba errores en la conversión a formato numérico (`float`).\n",
    "\n",
    "Adicionalmente, estos registros presentaban la condición errónea: en todos los casos aparecían como `\"NO INGRESO\"`, sin reflejar su verdadera situación.\n",
    "\n",
    "## Correcciones realizadas\n",
    "\n",
    "1. **puntaje**:  \n",
    "   - Se reemplazaron los valores `\"Ausente\"` y `\"Anulado\"` por puntaje **None** .\n",
    "   - Se mantuvo el tipo de dato como `float64` para garantizar compatibilidad con herramientas de análisis.\n",
    "\n",
    "2. **condicion**:  \n",
    "   - Cuando `puntaje` era `\"Ausente\"`, se actualizó a `condicion = \"AUSENTE\"`.  \n",
    "   - Cuando `puntaje` era `\"Anulado\"`, se actualizó a `condicion = \"ANULADO\"`.\n",
    "\n",
    "\n",
    "## Justificación \n",
    "\n",
    "Esta corrección sigue el estándar y se aplicara tambien en los años más recientes (`2024-I` y `2024-II`), donde:\n",
    "\n",
    "- Postulantes ausentes o anulados aparecen con `puntaje = 0.0` pero la condición sí está correctamente definida como `\"AUSENTE\"` o `\"ANULADO\"`.\n",
    "\n",
    "Para mantener la consistencia lógica, se optó por colocar **NULL** en el campo `puntaje`\n",
    "## Nota adicional\n",
    "\n",
    "Estas correcciones permiten:\n",
    "\n",
    "- Un análisis más preciso en Power BI o Python, evitando que valores nulos distorsionen métricas como mínimos, promedios o distribuciones.\n",
    "- Visualizar con claridad la cantidad real de ausentes y anulados por año, modalidad y escuela profesional.\n"
   ]
  },
  {
   "cell_type": "code",
   "execution_count": 24,
   "id": "67adb1d2",
   "metadata": {},
   "outputs": [],
   "source": [
    "df2 = df2.with_columns([\n",
    "    # PRIMERO EL VALOR DE AUSENTE Y ANULADO LOS ASIGNAMOS A LA CONDICION\n",
    "    pl.when(pl.col('PUNTAJE').is_in(['AUSENTE', 'ANULADO']))\n",
    "    .then(pl.col('PUNTAJE'))\n",
    "    .otherwise(pl.col('CONDICION'))\n",
    "    .alias('CONDICION'),\n",
    "\n",
    "    # ASIGNAMOS PARA ESOS POSTULANTE EL  PUNTAJE POR NULL\n",
    "    pl.when(pl.col('PUNTAJE').is_in(['AUSENTE', 'ANULADO']))\n",
    "    .then(None)\n",
    "    .otherwise(pl.col('PUNTAJE').cast(pl.Float64, strict= False))\n",
    "    .alias('PUNTAJE') \n",
    "])"
   ]
  },
  {
   "cell_type": "code",
   "execution_count": 25,
   "id": "debb6ced",
   "metadata": {},
   "outputs": [],
   "source": [
    "df2 = df2.with_columns([\n",
    "    pl.when(pl.col('CONDICION').is_in(['AUSENTE', 'ANULADO']))\n",
    "      .then(None)\n",
    "      .otherwise(pl.col('PUNTAJE'))\n",
    "      .alias('PUNTAJE')\n",
    "])"
   ]
  },
  {
   "cell_type": "code",
   "execution_count": 26,
   "id": "c0dfb77c",
   "metadata": {},
   "outputs": [
    {
     "data": {
      "text/html": [
       "<div><style>\n",
       ".dataframe > thead > tr,\n",
       ".dataframe > tbody > tr {\n",
       "  text-align: right;\n",
       "  white-space: pre-wrap;\n",
       "}\n",
       "</style>\n",
       "<small>shape: (7, 8)</small><table border=\"1\" class=\"dataframe\"><thead><tr><th>DNI</th><th>APELLIDOS Y NOMBRES</th><th>PUNTAJE</th><th>CONDICION</th><th>AÑO</th><th>PERIODO</th><th>MODALIDAD</th><th>CARRERA</th></tr><tr><td>str</td><td>str</td><td>f64</td><td>str</td><td>i64</td><td>str</td><td>str</td><td>str</td></tr></thead><tbody><tr><td>&quot;70551991&quot;</td><td>&quot;CHALCO RODRIGUEZ ANHELKA MIGUE…</td><td>null</td><td>&quot;AUSENTE&quot;</td><td>2018</td><td>&quot;II&quot;</td><td>&quot;COMUNIDADES RURALES Y URBANAS&quot;</td><td>&quot;: ADMINISTRACIÓN&quot;</td></tr><tr><td>&quot;74585957&quot;</td><td>&quot;FERNANDEZ RAMIREZ ARNOLD SMIT&quot;</td><td>null</td><td>&quot;AUSENTE&quot;</td><td>2019</td><td>&quot;I&quot;</td><td>&quot;EDUCACIÓN BÁSICA REGULAR Y EDU…</td><td>&quot;: ADMINISTRACIÓN&quot;</td></tr><tr><td>&quot;60733262&quot;</td><td>&quot;MENDOZA SANCHEZ GIANELLA SAORI&quot;</td><td>null</td><td>&quot;ANULADO&quot;</td><td>2022</td><td>null</td><td>&quot;ADMISIÓN ORDINARIA&quot;</td><td>&quot;P23: DERECHO&quot;</td></tr><tr><td>&quot;76764998&quot;</td><td>&quot;PORTAL PALACIOS MAYRA LIZETH&quot;</td><td>null</td><td>&quot;AUSENTE&quot;</td><td>2022</td><td>null</td><td>&quot;ADMISIÓN ORDINARIA&quot;</td><td>&quot;P38: OBSTETRICIA&quot;</td></tr><tr><td>&quot;70551991&quot;</td><td>&quot;CHALCO RODRIGUEZ ANHELKA MIGUE…</td><td>480.13</td><td>&quot;NO INGRESO&quot;</td><td>2023</td><td>&quot;I&quot;</td><td>&quot;ADMISIÓN ORDINARIA&quot;</td><td>&quot;CIENCIAS DE LA EDUCACIÓN EN ED…</td></tr><tr><td>&quot;61418809&quot;</td><td>&quot;CHAVEZ LANDEO, AMY LINSEYD&quot;</td><td>4.1333</td><td>&quot;NO INGRESO&quot;</td><td>2024</td><td>&quot;I&quot;</td><td>&quot;ORDINARIO&quot;</td><td>&quot;BIOLOGIA&quot;</td></tr><tr><td>&quot;61418809&quot;</td><td>&quot;CHAVEZ LANDEO, AMY LINSEYD&quot;</td><td>null</td><td>&quot;ANULADO&quot;</td><td>2025</td><td>&quot;I&quot;</td><td>&quot;ORDINARIO&quot;</td><td>&quot;BIOLOGIA&quot;</td></tr></tbody></table></div>"
      ],
      "text/plain": [
       "shape: (7, 8)\n",
       "┌──────────┬───────────────┬─────────┬────────────┬──────┬─────────┬───────────────┬───────────────┐\n",
       "│ DNI      ┆ APELLIDOS Y   ┆ PUNTAJE ┆ CONDICION  ┆ AÑO  ┆ PERIODO ┆ MODALIDAD     ┆ CARRERA       │\n",
       "│ ---      ┆ NOMBRES       ┆ ---     ┆ ---        ┆ ---  ┆ ---     ┆ ---           ┆ ---           │\n",
       "│ str      ┆ ---           ┆ f64     ┆ str        ┆ i64  ┆ str     ┆ str           ┆ str           │\n",
       "│          ┆ str           ┆         ┆            ┆      ┆         ┆               ┆               │\n",
       "╞══════════╪═══════════════╪═════════╪════════════╪══════╪═════════╪═══════════════╪═══════════════╡\n",
       "│ 70551991 ┆ CHALCO        ┆ null    ┆ AUSENTE    ┆ 2018 ┆ II      ┆ COMUNIDADES   ┆ : ADMINISTRAC │\n",
       "│          ┆ RODRIGUEZ     ┆         ┆            ┆      ┆         ┆ RURALES Y     ┆ IÓN           │\n",
       "│          ┆ ANHELKA       ┆         ┆            ┆      ┆         ┆ URBANAS       ┆               │\n",
       "│          ┆ MIGUE…        ┆         ┆            ┆      ┆         ┆               ┆               │\n",
       "│ 74585957 ┆ FERNANDEZ     ┆ null    ┆ AUSENTE    ┆ 2019 ┆ I       ┆ EDUCACIÓN     ┆ : ADMINISTRAC │\n",
       "│          ┆ RAMIREZ       ┆         ┆            ┆      ┆         ┆ BÁSICA        ┆ IÓN           │\n",
       "│          ┆ ARNOLD SMIT   ┆         ┆            ┆      ┆         ┆ REGULAR Y     ┆               │\n",
       "│          ┆               ┆         ┆            ┆      ┆         ┆ EDU…          ┆               │\n",
       "│ 60733262 ┆ MENDOZA       ┆ null    ┆ ANULADO    ┆ 2022 ┆ null    ┆ ADMISIÓN      ┆ P23: DERECHO  │\n",
       "│          ┆ SANCHEZ       ┆         ┆            ┆      ┆         ┆ ORDINARIA     ┆               │\n",
       "│          ┆ GIANELLA      ┆         ┆            ┆      ┆         ┆               ┆               │\n",
       "│          ┆ SAORI         ┆         ┆            ┆      ┆         ┆               ┆               │\n",
       "│ 76764998 ┆ PORTAL        ┆ null    ┆ AUSENTE    ┆ 2022 ┆ null    ┆ ADMISIÓN      ┆ P38:          │\n",
       "│          ┆ PALACIOS      ┆         ┆            ┆      ┆         ┆ ORDINARIA     ┆ OBSTETRICIA   │\n",
       "│          ┆ MAYRA LIZETH  ┆         ┆            ┆      ┆         ┆               ┆               │\n",
       "│ 70551991 ┆ CHALCO        ┆ 480.13  ┆ NO INGRESO ┆ 2023 ┆ I       ┆ ADMISIÓN      ┆ CIENCIAS DE   │\n",
       "│          ┆ RODRIGUEZ     ┆         ┆            ┆      ┆         ┆ ORDINARIA     ┆ LA EDUCACIÓN  │\n",
       "│          ┆ ANHELKA       ┆         ┆            ┆      ┆         ┆               ┆ EN ED…        │\n",
       "│          ┆ MIGUE…        ┆         ┆            ┆      ┆         ┆               ┆               │\n",
       "│ 61418809 ┆ CHAVEZ        ┆ 4.1333  ┆ NO INGRESO ┆ 2024 ┆ I       ┆ ORDINARIO     ┆ BIOLOGIA      │\n",
       "│          ┆ LANDEO, AMY   ┆         ┆            ┆      ┆         ┆               ┆               │\n",
       "│          ┆ LINSEYD       ┆         ┆            ┆      ┆         ┆               ┆               │\n",
       "│ 61418809 ┆ CHAVEZ        ┆ null    ┆ ANULADO    ┆ 2025 ┆ I       ┆ ORDINARIO     ┆ BIOLOGIA      │\n",
       "│          ┆ LANDEO, AMY   ┆         ┆            ┆      ┆         ┆               ┆               │\n",
       "│          ┆ LINSEYD       ┆         ┆            ┆      ┆         ┆               ┆               │\n",
       "└──────────┴───────────────┴─────────┴────────────┴──────┴─────────┴───────────────┴───────────────┘"
      ]
     },
     "execution_count": 26,
     "metadata": {},
     "output_type": "execute_result"
    }
   ],
   "source": [
    "# VERIFICAMOS PARA ALGUNOS POSTULANTES ALEATORIOS\n",
    "df2.filter(\n",
    "    pl.col('APELLIDOS Y NOMBRES').is_in(\n",
    "        ['CHALCO RODRIGUEZ ANHELKA MIGUEL', 'PORTAL PALACIOS MAYRA LIZETH',\n",
    "          'MENDOZA SANCHEZ GIANELLA SAORI', 'FERNANDEZ RAMIREZ ARNOLD SMIT',\n",
    "          'CHAVEZ LANDEO, AMY LINSEYD'])\n",
    ")"
   ]
  },
  {
   "cell_type": "code",
   "execution_count": 27,
   "id": "51a5ddd3",
   "metadata": {},
   "outputs": [
    {
     "data": {
      "text/html": [
       "<div><style>\n",
       ".dataframe > thead > tr,\n",
       ".dataframe > tbody > tr {\n",
       "  text-align: right;\n",
       "  white-space: pre-wrap;\n",
       "}\n",
       "</style>\n",
       "<small>shape: (11, 3)</small><table border=\"1\" class=\"dataframe\"><thead><tr><th>AÑO</th><th>PUNTAJE</th><th>CONDICION</th></tr><tr><td>i64</td><td>f64</td><td>str</td></tr></thead><tbody><tr><td>2018</td><td>null</td><td>&quot;ANULADO&quot;</td></tr><tr><td>2018</td><td>null</td><td>&quot;AUSENTE&quot;</td></tr><tr><td>2019</td><td>null</td><td>&quot;AUSENTE&quot;</td></tr><tr><td>2019</td><td>null</td><td>&quot;ANULADO&quot;</td></tr><tr><td>2022</td><td>null</td><td>&quot;ANULADO&quot;</td></tr><tr><td>&hellip;</td><td>&hellip;</td><td>&hellip;</td></tr><tr><td>2023</td><td>null</td><td>&quot;AUSENTE&quot;</td></tr><tr><td>2024</td><td>null</td><td>&quot;ANULADO&quot;</td></tr><tr><td>2024</td><td>null</td><td>&quot;AUSENTE&quot;</td></tr><tr><td>2025</td><td>null</td><td>&quot;ANULADO&quot;</td></tr><tr><td>2025</td><td>null</td><td>&quot;AUSENTE&quot;</td></tr></tbody></table></div>"
      ],
      "text/plain": [
       "shape: (11, 3)\n",
       "┌──────┬─────────┬───────────┐\n",
       "│ AÑO  ┆ PUNTAJE ┆ CONDICION │\n",
       "│ ---  ┆ ---     ┆ ---       │\n",
       "│ i64  ┆ f64     ┆ str       │\n",
       "╞══════╪═════════╪═══════════╡\n",
       "│ 2018 ┆ null    ┆ ANULADO   │\n",
       "│ 2018 ┆ null    ┆ AUSENTE   │\n",
       "│ 2019 ┆ null    ┆ AUSENTE   │\n",
       "│ 2019 ┆ null    ┆ ANULADO   │\n",
       "│ 2022 ┆ null    ┆ ANULADO   │\n",
       "│ …    ┆ …       ┆ …         │\n",
       "│ 2023 ┆ null    ┆ AUSENTE   │\n",
       "│ 2024 ┆ null    ┆ ANULADO   │\n",
       "│ 2024 ┆ null    ┆ AUSENTE   │\n",
       "│ 2025 ┆ null    ┆ ANULADO   │\n",
       "│ 2025 ┆ null    ┆ AUSENTE   │\n",
       "└──────┴─────────┴───────────┘"
      ]
     },
     "execution_count": 27,
     "metadata": {},
     "output_type": "execute_result"
    }
   ],
   "source": [
    "df2.filter(\n",
    "    pl.col('PUNTAJE').is_null()\n",
    ").select('AÑO', 'PUNTAJE', 'CONDICION').unique().sort(by = 'AÑO')"
   ]
  },
  {
   "cell_type": "markdown",
   "id": "3daf0e6a",
   "metadata": {},
   "source": [
    "##### VERIFICAMOS NUEVAMENTE QUE NO HAYA AUSENTES Y ANULADOS EN LA COLUMNA PUNTAJE"
   ]
  },
  {
   "cell_type": "code",
   "execution_count": 28,
   "id": "066cb744",
   "metadata": {},
   "outputs": [
    {
     "data": {
      "text/html": [
       "<div><style>\n",
       ".dataframe > thead > tr,\n",
       ".dataframe > tbody > tr {\n",
       "  text-align: right;\n",
       "  white-space: pre-wrap;\n",
       "}\n",
       "</style>\n",
       "<small>shape: (1, 1)</small><table border=\"1\" class=\"dataframe\"><thead><tr><th>PUNTAJE</th></tr><tr><td>f64</td></tr></thead><tbody><tr><td>null</td></tr></tbody></table></div>"
      ],
      "text/plain": [
       "shape: (1, 1)\n",
       "┌─────────┐\n",
       "│ PUNTAJE │\n",
       "│ ---     │\n",
       "│ f64     │\n",
       "╞═════════╡\n",
       "│ null    │\n",
       "└─────────┘"
      ]
     },
     "execution_count": 28,
     "metadata": {},
     "output_type": "execute_result"
    }
   ],
   "source": [
    "df2.filter(\n",
    "    pl.col('PUNTAJE').cast(pl.Float64, strict=False).is_null()\n",
    ").select(['PUNTAJE']).unique()"
   ]
  },
  {
   "cell_type": "code",
   "execution_count": 29,
   "id": "f59125ba",
   "metadata": {},
   "outputs": [
    {
     "data": {
      "text/html": [
       "<div><style>\n",
       ".dataframe > thead > tr,\n",
       ".dataframe > tbody > tr {\n",
       "  text-align: right;\n",
       "  white-space: pre-wrap;\n",
       "}\n",
       "</style>\n",
       "<small>shape: (0, 8)</small><table border=\"1\" class=\"dataframe\"><thead><tr><th>DNI</th><th>APELLIDOS Y NOMBRES</th><th>PUNTAJE</th><th>CONDICION</th><th>AÑO</th><th>PERIODO</th><th>MODALIDAD</th><th>CARRERA</th></tr><tr><td>str</td><td>str</td><td>f64</td><td>str</td><td>i64</td><td>str</td><td>str</td><td>str</td></tr></thead><tbody></tbody></table></div>"
      ],
      "text/plain": [
       "shape: (0, 8)\n",
       "┌─────┬─────────────────────┬─────────┬───────────┬─────┬─────────┬───────────┬─────────┐\n",
       "│ DNI ┆ APELLIDOS Y NOMBRES ┆ PUNTAJE ┆ CONDICION ┆ AÑO ┆ PERIODO ┆ MODALIDAD ┆ CARRERA │\n",
       "│ --- ┆ ---                 ┆ ---     ┆ ---       ┆ --- ┆ ---     ┆ ---       ┆ ---     │\n",
       "│ str ┆ str                 ┆ f64     ┆ str       ┆ i64 ┆ str     ┆ str       ┆ str     │\n",
       "╞═════╪═════════════════════╪═════════╪═══════════╪═════╪═════════╪═══════════╪═════════╡\n",
       "└─────┴─────────────────────┴─────────┴───────────┴─────┴─────────┴───────────┴─────────┘"
      ]
     },
     "execution_count": 29,
     "metadata": {},
     "output_type": "execute_result"
    }
   ],
   "source": [
    "df2.filter(\n",
    "    pl.col(\"PUNTAJE\").cast(pl.Utf8).is_in([\"AUSENTE\", \"ANULADO\"])\n",
    ")"
   ]
  },
  {
   "cell_type": "code",
   "execution_count": 30,
   "id": "4aaa83ec",
   "metadata": {},
   "outputs": [
    {
     "data": {
      "text/html": [
       "<div><style>\n",
       ".dataframe > thead > tr,\n",
       ".dataframe > tbody > tr {\n",
       "  text-align: right;\n",
       "  white-space: pre-wrap;\n",
       "}\n",
       "</style>\n",
       "<small>shape: (11, 3)</small><table border=\"1\" class=\"dataframe\"><thead><tr><th>AÑO</th><th>CONDICION</th><th>Total x Año</th></tr><tr><td>i64</td><td>str</td><td>u32</td></tr></thead><tbody><tr><td>2018</td><td>&quot;ANULADO&quot;</td><td>18</td></tr><tr><td>2018</td><td>&quot;AUSENTE&quot;</td><td>363</td></tr><tr><td>2019</td><td>&quot;AUSENTE&quot;</td><td>76</td></tr><tr><td>2019</td><td>&quot;ANULADO&quot;</td><td>4</td></tr><tr><td>2022</td><td>&quot;AUSENTE&quot;</td><td>106</td></tr><tr><td>&hellip;</td><td>&hellip;</td><td>&hellip;</td></tr><tr><td>2023</td><td>&quot;AUSENTE&quot;</td><td>202</td></tr><tr><td>2024</td><td>&quot;AUSENTE&quot;</td><td>145</td></tr><tr><td>2024</td><td>&quot;ANULADO&quot;</td><td>4</td></tr><tr><td>2025</td><td>&quot;ANULADO&quot;</td><td>3</td></tr><tr><td>2025</td><td>&quot;AUSENTE&quot;</td><td>131</td></tr></tbody></table></div>"
      ],
      "text/plain": [
       "shape: (11, 3)\n",
       "┌──────┬───────────┬─────────────┐\n",
       "│ AÑO  ┆ CONDICION ┆ Total x Año │\n",
       "│ ---  ┆ ---       ┆ ---         │\n",
       "│ i64  ┆ str       ┆ u32         │\n",
       "╞══════╪═══════════╪═════════════╡\n",
       "│ 2018 ┆ ANULADO   ┆ 18          │\n",
       "│ 2018 ┆ AUSENTE   ┆ 363         │\n",
       "│ 2019 ┆ AUSENTE   ┆ 76          │\n",
       "│ 2019 ┆ ANULADO   ┆ 4           │\n",
       "│ 2022 ┆ AUSENTE   ┆ 106         │\n",
       "│ …    ┆ …         ┆ …           │\n",
       "│ 2023 ┆ AUSENTE   ┆ 202         │\n",
       "│ 2024 ┆ AUSENTE   ┆ 145         │\n",
       "│ 2024 ┆ ANULADO   ┆ 4           │\n",
       "│ 2025 ┆ ANULADO   ┆ 3           │\n",
       "│ 2025 ┆ AUSENTE   ┆ 131         │\n",
       "└──────┴───────────┴─────────────┘"
      ]
     },
     "execution_count": 30,
     "metadata": {},
     "output_type": "execute_result"
    }
   ],
   "source": [
    "df2.filter(\n",
    "    pl.col('CONDICION').is_in(['AUSENTE', 'ANULADO'])\n",
    ").group_by(['AÑO', 'CONDICION']).agg(\n",
    "    pl.len().alias('Total x Año')\n",
    ").sort(by = 'AÑO', descending = False)"
   ]
  },
  {
   "cell_type": "code",
   "execution_count": 31,
   "id": "9a0a265a",
   "metadata": {},
   "outputs": [
    {
     "data": {
      "text/html": [
       "<div><style>\n",
       ".dataframe > thead > tr,\n",
       ".dataframe > tbody > tr {\n",
       "  text-align: right;\n",
       "  white-space: pre-wrap;\n",
       "}\n",
       "</style>\n",
       "<small>shape: (9, 6)</small><table border=\"1\" class=\"dataframe\"><thead><tr><th>AÑO</th><th>PERIODO</th><th>PUNTAJE_MAXIMO</th><th>ALUMNOS_MAXIMOS</th><th>PUNTAJE_MINIMO</th><th>ALUMNOS_MINIMOS</th></tr><tr><td>i64</td><td>str</td><td>f64</td><td>list[str]</td><td>f64</td><td>list[str]</td></tr></thead><tbody><tr><td>2018</td><td>&quot;I&quot;</td><td>1893.75</td><td>[&quot;BERTOLOTTI DIAZ FABIANA&quot;, &quot;ASCARZA AIQUIPA DANNELY VICTORIA&quot;, &quot;HUAMANI ACHAMIZO ANDI STEEVEN&quot;]</td><td>106.25</td><td>[&quot;PALOMINO COAQUIRA MARICIELO GISELL&quot;]</td></tr><tr><td>2018</td><td>&quot;II&quot;</td><td>1790.0</td><td>[&quot;ASCENCIO HUAUYA LUIS ANGEL&quot;]</td><td>87.5</td><td>[&quot;GUERRERO BUSTAMANTE MARIA FERNANDA&quot;]</td></tr><tr><td>2019</td><td>&quot;I&quot;</td><td>1643.75</td><td>[&quot;MOZO FERRER RONALDO MIGUEL&quot;]</td><td>53.75</td><td>[&quot;ANICAMA ROMERO PEDRO ENRIQUE&quot;]</td></tr><tr><td>2022</td><td>null</td><td>1662.0</td><td>[&quot;CHÁVEZ BARRIENTOS HUGO ALFREDO&quot;]</td><td>20.0</td><td>[&quot;TAPIA ESCATE PAMELA ALEXANDRA&quot;]</td></tr><tr><td>2023</td><td>&quot;I&quot;</td><td>1684.25</td><td>[&quot;ESCALANTE RUIZ DE CASTILLA FRANCINY JHIRE DEL PILAR&quot;]</td><td>-2.25</td><td>[&quot;LOPEZ PEÑA JASHURY YARETH&quot;]</td></tr><tr><td>2023</td><td>&quot;II&quot;</td><td>19.58</td><td>[&quot;ESCALANTE RUIZ DE CASTILLA GABRIEL IVAN&quot;]</td><td>0.0</td><td>[&quot;DE LA CRUZ MOQUILLAZA JOSHUE JESUS&quot;, &quot;ACCO TAQUIRE SILMA RUBY&quot;, … &quot;DONAYRE ENRIQUEZ ANGELA ABACIA&quot;]</td></tr><tr><td>2024</td><td>&quot;I&quot;</td><td>18.5556</td><td>[&quot;TOMASTO VERGARA, JANNILU MAYKELLY&quot;, &quot;HUAMAN HUAMAN, MAHILY LISBETH&quot;, … &quot;VILLENA CANDELA, DANNY JOSE&quot;]</td><td>0.0</td><td>[&quot;MEREL CHECA, CARLOS ENRIQUE&quot;, &quot;POMA GODOY, KRIS YULIET&quot;, … &quot;BRICEÑO ROMERO, FLOR DE MARIA&quot;]</td></tr><tr><td>2024</td><td>&quot;II&quot;</td><td>19.1778</td><td>[&quot;PAREDES CHAVEZ, NYCOL ASTRID&quot;, &quot;LICAS ACERO, YADHIRA NICOLE&quot;]</td><td>-3.9778</td><td>[&quot;SAAVEDRA CURIMANYA, MARCO ANTONIO&quot;, &quot;CCELLCCARO TORRES, ROCIO LUZ&quot;, … &quot;PAUCCARIMA TELLO, ANA LUZ&quot;]</td></tr><tr><td>2025</td><td>&quot;I&quot;</td><td>18.1334</td><td>[&quot;YAÑEZ BERNAOLA, DIANA ISABELLA&quot;, &quot;TITO BELLIDO, ESTHER FERNANDA&quot;, … &quot;ALVARADO CALIZAYA, SEBASTIAN ANDRE&quot;]</td><td>-3.9994</td><td>[&quot;MAMANI GARCIA, JULIO ALEJANDRO&quot;]</td></tr></tbody></table></div>"
      ],
      "text/plain": [
       "shape: (9, 6)\n",
       "┌──────┬─────────┬────────────────┬───────────────────────┬────────────────┬───────────────────────┐\n",
       "│ AÑO  ┆ PERIODO ┆ PUNTAJE_MAXIMO ┆ ALUMNOS_MAXIMOS       ┆ PUNTAJE_MINIMO ┆ ALUMNOS_MINIMOS       │\n",
       "│ ---  ┆ ---     ┆ ---            ┆ ---                   ┆ ---            ┆ ---                   │\n",
       "│ i64  ┆ str     ┆ f64            ┆ list[str]             ┆ f64            ┆ list[str]             │\n",
       "╞══════╪═════════╪════════════════╪═══════════════════════╪════════════════╪═══════════════════════╡\n",
       "│ 2018 ┆ I       ┆ 1893.75        ┆ [\"BERTOLOTTI DIAZ     ┆ 106.25         ┆ [\"PALOMINO COAQUIRA   │\n",
       "│      ┆         ┆                ┆ FABIANA\", \"A…         ┆                ┆ MARICIELO …           │\n",
       "│ 2018 ┆ II      ┆ 1790.0         ┆ [\"ASCENCIO HUAUYA     ┆ 87.5           ┆ [\"GUERRERO BUSTAMANTE │\n",
       "│      ┆         ┆                ┆ LUIS ANGEL\"]          ┆                ┆ MARIA FE…             │\n",
       "│ 2019 ┆ I       ┆ 1643.75        ┆ [\"MOZO FERRER RONALDO ┆ 53.75          ┆ [\"ANICAMA ROMERO      │\n",
       "│      ┆         ┆                ┆ MIGUEL\"]              ┆                ┆ PEDRO ENRIQUE…        │\n",
       "│ 2022 ┆ null    ┆ 1662.0         ┆ [\"CHÁVEZ BARRIENTOS   ┆ 20.0           ┆ [\"TAPIA ESCATE PAMELA │\n",
       "│      ┆         ┆                ┆ HUGO ALFRE…           ┆                ┆ ALEXANDR…             │\n",
       "│ 2023 ┆ I       ┆ 1684.25        ┆ [\"ESCALANTE RUIZ DE   ┆ -2.25          ┆ [\"LOPEZ PEÑA JASHURY  │\n",
       "│      ┆         ┆                ┆ CASTILLA F…           ┆                ┆ YARETH\"]              │\n",
       "│ 2023 ┆ II      ┆ 19.58          ┆ [\"ESCALANTE RUIZ DE   ┆ 0.0            ┆ [\"DE LA CRUZ          │\n",
       "│      ┆         ┆                ┆ CASTILLA G…           ┆                ┆ MOQUILLAZA JOSHUE…    │\n",
       "│ 2024 ┆ I       ┆ 18.5556        ┆ [\"TOMASTO VERGARA,    ┆ 0.0            ┆ [\"MEREL CHECA, CARLOS │\n",
       "│      ┆         ┆                ┆ JANNILU MAY…          ┆                ┆ ENRIQUE\"…             │\n",
       "│ 2024 ┆ II      ┆ 19.1778        ┆ [\"PAREDES CHAVEZ,     ┆ -3.9778        ┆ [\"SAAVEDRA CURIMANYA, │\n",
       "│      ┆         ┆                ┆ NYCOL ASTRID…         ┆                ┆ MARCO AN…             │\n",
       "│ 2025 ┆ I       ┆ 18.1334        ┆ [\"YAÑEZ BERNAOLA,     ┆ -3.9994        ┆ [\"MAMANI GARCIA,      │\n",
       "│      ┆         ┆                ┆ DIANA ISABEL…         ┆                ┆ JULIO ALEJAND…        │\n",
       "└──────┴─────────┴────────────────┴───────────────────────┴────────────────┴───────────────────────┘"
      ]
     },
     "execution_count": 31,
     "metadata": {},
     "output_type": "execute_result"
    }
   ],
   "source": [
    "resultado = (\n",
    "    df2.group_by([\"AÑO\", \"PERIODO\"])\n",
    "    .agg([\n",
    "        pl.col(\"PUNTAJE\").max().alias(\"PUNTAJE_MAXIMO\"),\n",
    "        pl.col(\"APELLIDOS Y NOMBRES\")\n",
    "            .filter(pl.col(\"PUNTAJE\") == pl.col(\"PUNTAJE\").max())\n",
    "            .alias(\"ALUMNOS_MAXIMOS\"),\n",
    "\n",
    "        pl.col(\"PUNTAJE\").min().alias(\"PUNTAJE_MINIMO\"),\n",
    "        pl.col(\"APELLIDOS Y NOMBRES\")\n",
    "            .filter(pl.col(\"PUNTAJE\") == pl.col(\"PUNTAJE\").min())\n",
    "            .alias(\"ALUMNOS_MINIMOS\"),\n",
    "    ])\n",
    "    .sort([\"AÑO\", \"PERIODO\"])\n",
    ")\n",
    "resultado"
   ]
  },
  {
   "cell_type": "markdown",
   "id": "8a1ffd6d",
   "metadata": {},
   "source": [
    "*Debido al cambio de sistema de evaluación desde el año 2023, se incorporó una conversión automática de puntajes en escala 0–2000 a 0–20 solo cuando el usuario filtra años anteriores al 2023. Los valores negativos o atípicos se excluyen de esta transformación para preservar su significado original. Esta decisión sigue buenas prácticas de auditoría y análisis estadístico.*\n"
   ]
  },
  {
   "cell_type": "code",
   "execution_count": 32,
   "id": "501c00e3",
   "metadata": {},
   "outputs": [],
   "source": [
    "df2 = df2.with_columns([\n",
    "\n",
    "    # Columna de escala informativa\n",
    "    pl.when(\n",
    "        ((pl.col('AÑO') >= 2018) & (pl.col('AÑO') < 2023)) |\n",
    "        ((pl.col('AÑO') == 2023) & (pl.col('PERIODO') == \"I\"))\n",
    "    )\n",
    "    .then(pl.lit('0-2000'))\n",
    "    .otherwise(pl.lit('0-20'))\n",
    "    .alias('Escala'),\n",
    "\n",
    "    pl.col('PUNTAJE').alias('PuntajeOriginal'),\n",
    "\n",
    "    # Puntaje normalizado, solo si NO es None y es positivo y es de escala 0–2000\n",
    "    pl.when(\n",
    "        pl.col(\"PUNTAJE\").is_not_null() &\n",
    "        (((pl.col('AÑO') >= 2018) & (pl.col('AÑO') < 2023)) |\n",
    "         ((pl.col('AÑO') == 2023) & (pl.col('PERIODO') == \"I\"))) &\n",
    "        (pl.col('PUNTAJE') >= 0)\n",
    "    )\n",
    "    .then(pl.col('PUNTAJE') / 100)\n",
    "    .otherwise(pl.col('PUNTAJE'))  # se deja None, negativo o escala 0-20\n",
    "    .alias('Puntaje_normalizado')\n",
    "])\n"
   ]
  },
  {
   "cell_type": "code",
   "execution_count": 33,
   "id": "a764e6f0",
   "metadata": {},
   "outputs": [
    {
     "data": {
      "text/html": [
       "<div><style>\n",
       ".dataframe > thead > tr,\n",
       ".dataframe > tbody > tr {\n",
       "  text-align: right;\n",
       "  white-space: pre-wrap;\n",
       "}\n",
       "</style>\n",
       "<small>shape: (5, 11)</small><table border=\"1\" class=\"dataframe\"><thead><tr><th>DNI</th><th>APELLIDOS Y NOMBRES</th><th>PUNTAJE</th><th>CONDICION</th><th>AÑO</th><th>PERIODO</th><th>MODALIDAD</th><th>CARRERA</th><th>Escala</th><th>PuntajeOriginal</th><th>Puntaje_normalizado</th></tr><tr><td>str</td><td>str</td><td>f64</td><td>str</td><td>i64</td><td>str</td><td>str</td><td>str</td><td>str</td><td>f64</td><td>f64</td></tr></thead><tbody><tr><td>&quot;73134972&quot;</td><td>&quot;MEDINA CAJAMARCA YOSHEF YOJANS…</td><td>448.75</td><td>&quot;NO INGRESO&quot;</td><td>2018</td><td>&quot;I&quot;</td><td>&quot;EDUCACIÓN BÁSICA REGULAR Y EDU…</td><td>&quot;: MEDICINA HUMANA&quot;</td><td>&quot;0-2000&quot;</td><td>448.75</td><td>4.4875</td></tr><tr><td>&quot;76238570&quot;</td><td>&quot;MEDINA CORDOVA FELIX ALONZO&quot;</td><td>1523.75</td><td>&quot;INGRESO&quot;</td><td>2019</td><td>&quot;I&quot;</td><td>&quot;EDUCACIÓN BÁSICA REGULAR Y EDU…</td><td>&quot;: INGENIERÍA CIVIL&quot;</td><td>&quot;0-2000&quot;</td><td>1523.75</td><td>15.2375</td></tr><tr><td>&quot;73134972&quot;</td><td>&quot;MEDINA CAJAMARCA YOSHEF YOJANS…</td><td>null</td><td>&quot;ANULADO&quot;</td><td>2019</td><td>&quot;I&quot;</td><td>&quot;EDUCACIÓN BÁSICA REGULAR Y EDU…</td><td>&quot;: MEDICINA HUMANA&quot;</td><td>&quot;0-2000&quot;</td><td>null</td><td>null</td></tr><tr><td>&quot;72701953&quot;</td><td>&quot;TITO PRADA GREACE NICOLL&quot;</td><td>628.0</td><td>&quot;NO INGRESO&quot;</td><td>2023</td><td>&quot;I&quot;</td><td>&quot;ADMISIÓN ORDINARIA&quot;</td><td>&quot;PSICOLOGÍA&quot;</td><td>&quot;0-2000&quot;</td><td>628.0</td><td>6.28</td></tr><tr><td>&quot;72701953&quot;</td><td>&quot;TITO PRADA GREACE NICOLL&quot;</td><td>16.049</td><td>&quot;INGRESO&quot;</td><td>2023</td><td>&quot;II&quot;</td><td>null</td><td>&quot;ADMINISTRACION&quot;</td><td>&quot;0-20&quot;</td><td>16.049</td><td>16.049</td></tr></tbody></table></div>"
      ],
      "text/plain": [
       "shape: (5, 11)\n",
       "┌──────────┬────────────┬─────────┬────────────┬───┬────────────┬────────┬────────────┬────────────┐\n",
       "│ DNI      ┆ APELLIDOS  ┆ PUNTAJE ┆ CONDICION  ┆ … ┆ CARRERA    ┆ Escala ┆ PuntajeOri ┆ Puntaje_no │\n",
       "│ ---      ┆ Y NOMBRES  ┆ ---     ┆ ---        ┆   ┆ ---        ┆ ---    ┆ ginal      ┆ rmalizado  │\n",
       "│ str      ┆ ---        ┆ f64     ┆ str        ┆   ┆ str        ┆ str    ┆ ---        ┆ ---        │\n",
       "│          ┆ str        ┆         ┆            ┆   ┆            ┆        ┆ f64        ┆ f64        │\n",
       "╞══════════╪════════════╪═════════╪════════════╪═══╪════════════╪════════╪════════════╪════════════╡\n",
       "│ 73134972 ┆ MEDINA     ┆ 448.75  ┆ NO INGRESO ┆ … ┆ : MEDICINA ┆ 0-2000 ┆ 448.75     ┆ 4.4875     │\n",
       "│          ┆ CAJAMARCA  ┆         ┆            ┆   ┆ HUMANA     ┆        ┆            ┆            │\n",
       "│          ┆ YOSHEF     ┆         ┆            ┆   ┆            ┆        ┆            ┆            │\n",
       "│          ┆ YOJANS…    ┆         ┆            ┆   ┆            ┆        ┆            ┆            │\n",
       "│ 76238570 ┆ MEDINA     ┆ 1523.75 ┆ INGRESO    ┆ … ┆ :          ┆ 0-2000 ┆ 1523.75    ┆ 15.2375    │\n",
       "│          ┆ CORDOVA    ┆         ┆            ┆   ┆ INGENIERÍA ┆        ┆            ┆            │\n",
       "│          ┆ FELIX      ┆         ┆            ┆   ┆ CIVIL      ┆        ┆            ┆            │\n",
       "│          ┆ ALONZO     ┆         ┆            ┆   ┆            ┆        ┆            ┆            │\n",
       "│ 73134972 ┆ MEDINA     ┆ null    ┆ ANULADO    ┆ … ┆ : MEDICINA ┆ 0-2000 ┆ null       ┆ null       │\n",
       "│          ┆ CAJAMARCA  ┆         ┆            ┆   ┆ HUMANA     ┆        ┆            ┆            │\n",
       "│          ┆ YOSHEF     ┆         ┆            ┆   ┆            ┆        ┆            ┆            │\n",
       "│          ┆ YOJANS…    ┆         ┆            ┆   ┆            ┆        ┆            ┆            │\n",
       "│ 72701953 ┆ TITO PRADA ┆ 628.0   ┆ NO INGRESO ┆ … ┆ PSICOLOGÍA ┆ 0-2000 ┆ 628.0      ┆ 6.28       │\n",
       "│          ┆ GREACE     ┆         ┆            ┆   ┆            ┆        ┆            ┆            │\n",
       "│          ┆ NICOLL     ┆         ┆            ┆   ┆            ┆        ┆            ┆            │\n",
       "│ 72701953 ┆ TITO PRADA ┆ 16.049  ┆ INGRESO    ┆ … ┆ ADMINISTRA ┆ 0-20   ┆ 16.049     ┆ 16.049     │\n",
       "│          ┆ GREACE     ┆         ┆            ┆   ┆ CION       ┆        ┆            ┆            │\n",
       "│          ┆ NICOLL     ┆         ┆            ┆   ┆            ┆        ┆            ┆            │\n",
       "└──────────┴────────────┴─────────┴────────────┴───┴────────────┴────────┴────────────┴────────────┘"
      ]
     },
     "execution_count": 33,
     "metadata": {},
     "output_type": "execute_result"
    }
   ],
   "source": [
    "# VERIFICAMOS PARA ALGUNOS POSTULANTES ALEATORIOS\n",
    "df2.filter(\n",
    "    pl.col('APELLIDOS Y NOMBRES').is_in([\n",
    "        'MEDINA CORDOVA FELIX ALONZO', 'MEDINA CAJAMARCA YOSHEF YOJANSSEN',\n",
    "        ' PAREDES ALATRISTA ARTURO LI', 'TITO PRADA GREACE NICOLL'\n",
    "    ])\n",
    ")"
   ]
  },
  {
   "cell_type": "markdown",
   "id": "1433c540",
   "metadata": {},
   "source": [
    "<p style=\"\n",
    "  display: inline-block;\n",
    "  font-size: 18px;\n",
    "  font-weight: bold;\n",
    "  font-style: italic;\n",
    "  background-color: #fce4ec;\n",
    "  color: #880e4f;\n",
    "  padding: 6px;\n",
    "  border-radius: 5px;\n",
    "  margin: 0;\n",
    "\">\n",
    "  E) COLUMNA MODALIDAD\n",
    "</p>"
   ]
  },
  {
   "cell_type": "markdown",
   "id": "e08ba9df",
   "metadata": {},
   "source": [
    "#### VERIFICAMOS LAS DISTINTAS MODALIDADES"
   ]
  },
  {
   "cell_type": "code",
   "execution_count": 34,
   "id": "4496cef8",
   "metadata": {},
   "outputs": [
    {
     "data": {
      "text/plain": [
       "['TITULADOS O GRADUADOS',\n",
       " 'DEP. CALIFICADOS Y/O DEP. CALIFICADOS DE ALTO NIVEL',\n",
       " 'PRIMEROS PUESTOS COLEGIOS',\n",
       " '1ER Y 2DO PUESTO I.E.',\n",
       " 'DEPORTISTAS DESTACADOS',\n",
       " '1ER Y 2DO PUESTO DE I.E.',\n",
       " 'TITULADOS Y GRADUADOS',\n",
       " 'VICTIMA DEL TERRORISMO',\n",
       " 'DEPORTISTAS CALIFICADOS',\n",
       " 'SERVIDORES DE LA UNICA E HIJOS',\n",
       " None,\n",
       " 'COMUNIDADES RURALES Y URBANAS',\n",
       " 'EDUCACIÓN BÁSICA REGULAR Y EDUCACIÓN BÁSICA ALTERNATIVA',\n",
       " 'PRIMEROS PUESTOS DE I. E. DE NIVEL SECUNDARIO',\n",
       " 'PRIMEROS PUESTOS DE EDUCACIÓN SECUNDARIA',\n",
       " 'DEP. CALIFICADOS Y DEP. CALIFICADOS DE ALTO NIVEL',\n",
       " 'PRIMEROS PUESTOS DE LAS I. E. DE NIVEL SECUNDARIO',\n",
       " 'COLEGIO SECUNDARIO MAYOR PRESIDENTE DEL PERU',\n",
       " 'ORDINARIO',\n",
       " 'VICTIMAS DE TERRORISMO',\n",
       " 'PERSONA CON DISCAPACIDAD',\n",
       " 'PERSONAS CON DISCAPACIDAD',\n",
       " 'VICTIMAS DEL TERRORISMO',\n",
       " 'ADMISIÓN ORDINARIA',\n",
       " 'DEPORTISTAS DESCATADOS']"
      ]
     },
     "execution_count": 34,
     "metadata": {},
     "output_type": "execute_result"
    }
   ],
   "source": [
    "list(df2['MODALIDAD'].unique())"
   ]
  },
  {
   "cell_type": "markdown",
   "id": "e858420d",
   "metadata": {},
   "source": [
    "SE OBSERVA QUE HAY VALORES NULOS"
   ]
  },
  {
   "cell_type": "markdown",
   "id": "d65f93b0",
   "metadata": {},
   "source": [
    "#### VERIFICAMOS AÑO Y PERIODO CON VALORES NULOS"
   ]
  },
  {
   "cell_type": "code",
   "execution_count": 35,
   "id": "e7f40965",
   "metadata": {},
   "outputs": [
    {
     "data": {
      "text/html": [
       "<div><style>\n",
       ".dataframe > thead > tr,\n",
       ".dataframe > tbody > tr {\n",
       "  text-align: right;\n",
       "  white-space: pre-wrap;\n",
       "}\n",
       "</style>\n",
       "<small>shape: (1, 2)</small><table border=\"1\" class=\"dataframe\"><thead><tr><th>AÑO</th><th>PERIODO</th></tr><tr><td>i64</td><td>str</td></tr></thead><tbody><tr><td>2023</td><td>&quot;II&quot;</td></tr></tbody></table></div>"
      ],
      "text/plain": [
       "shape: (1, 2)\n",
       "┌──────┬─────────┐\n",
       "│ AÑO  ┆ PERIODO │\n",
       "│ ---  ┆ ---     │\n",
       "│ i64  ┆ str     │\n",
       "╞══════╪═════════╡\n",
       "│ 2023 ┆ II      │\n",
       "└──────┴─────────┘"
      ]
     },
     "execution_count": 35,
     "metadata": {},
     "output_type": "execute_result"
    }
   ],
   "source": [
    "df2.filter(\n",
    "    pl.col('MODALIDAD').is_null()\n",
    ").select(['AÑO', 'PERIODO']).unique()"
   ]
  },
  {
   "cell_type": "markdown",
   "id": "fbaae20e",
   "metadata": {},
   "source": [
    "OBSERVAMOS"
   ]
  },
  {
   "cell_type": "code",
   "execution_count": 36,
   "id": "f10818db",
   "metadata": {},
   "outputs": [
    {
     "data": {
      "text/html": [
       "<div><style>\n",
       ".dataframe > thead > tr,\n",
       ".dataframe > tbody > tr {\n",
       "  text-align: right;\n",
       "  white-space: pre-wrap;\n",
       "}\n",
       "</style>\n",
       "<small>shape: (6, 1)</small><table border=\"1\" class=\"dataframe\"><thead><tr><th>MODALIDAD</th></tr><tr><td>str</td></tr></thead><tbody><tr><td>&quot;VICTIMAS DE TERRORISMO&quot;</td></tr><tr><td>&quot;1ER Y 2DO PUESTO I.E.&quot;</td></tr><tr><td>&quot;PERSONA CON DISCAPACIDAD&quot;</td></tr><tr><td>&quot;TITULADOS Y GRADUADOS&quot;</td></tr><tr><td>null</td></tr><tr><td>&quot;DEPORTISTAS DESCATADOS&quot;</td></tr></tbody></table></div>"
      ],
      "text/plain": [
       "shape: (6, 1)\n",
       "┌──────────────────────────┐\n",
       "│ MODALIDAD                │\n",
       "│ ---                      │\n",
       "│ str                      │\n",
       "╞══════════════════════════╡\n",
       "│ VICTIMAS DE TERRORISMO   │\n",
       "│ 1ER Y 2DO PUESTO I.E.    │\n",
       "│ PERSONA CON DISCAPACIDAD │\n",
       "│ TITULADOS Y GRADUADOS    │\n",
       "│ null                     │\n",
       "│ DEPORTISTAS DESCATADOS   │\n",
       "└──────────────────────────┘"
      ]
     },
     "execution_count": 36,
     "metadata": {},
     "output_type": "execute_result"
    }
   ],
   "source": [
    "df2.filter(\n",
    "    (pl.col('AÑO') == 2023) & (pl.col('PERIODO') == 'II')\n",
    ").select('MODALIDAD').unique()"
   ]
  },
  {
   "cell_type": "markdown",
   "id": "d87d404f",
   "metadata": {},
   "source": [
    "POR TEMAS DE AL EXTRAER LOS DATOS EN EL PDF DEL 2023- II NO SE OBSERVA LA MODALIDAD POR ELLO AL ANALIZAR SE OBSERVA QUE NO TENEMOS LA MODALIDAD ORDINARIA , YA QUE LAS DEMAS CORRESPONDE A LA EXTRAORDINARIA INDIVIDUAL , ASI QUE ESTE SERA EL NUEVO VALOR DE ESOS VALORES NULOS"
   ]
  },
  {
   "cell_type": "code",
   "execution_count": 37,
   "id": "60d0c0a3",
   "metadata": {},
   "outputs": [],
   "source": [
    "df2= df2.with_columns(\n",
    "    pl.col('MODALIDAD').fill_null('ORDINARIA').alias('MODALIDAD')\n",
    ")"
   ]
  },
  {
   "cell_type": "code",
   "execution_count": 38,
   "id": "ed8a0c88",
   "metadata": {},
   "outputs": [
    {
     "data": {
      "text/html": [
       "<div><style>\n",
       ".dataframe > thead > tr,\n",
       ".dataframe > tbody > tr {\n",
       "  text-align: right;\n",
       "  white-space: pre-wrap;\n",
       "}\n",
       "</style>\n",
       "<small>shape: (0, 11)</small><table border=\"1\" class=\"dataframe\"><thead><tr><th>DNI</th><th>APELLIDOS Y NOMBRES</th><th>PUNTAJE</th><th>CONDICION</th><th>AÑO</th><th>PERIODO</th><th>MODALIDAD</th><th>CARRERA</th><th>Escala</th><th>PuntajeOriginal</th><th>Puntaje_normalizado</th></tr><tr><td>str</td><td>str</td><td>f64</td><td>str</td><td>i64</td><td>str</td><td>str</td><td>str</td><td>str</td><td>f64</td><td>f64</td></tr></thead><tbody></tbody></table></div>"
      ],
      "text/plain": [
       "shape: (0, 11)\n",
       "┌─────┬───────────────┬─────────┬───────────┬───┬─────────┬────────┬───────────────┬───────────────┐\n",
       "│ DNI ┆ APELLIDOS Y   ┆ PUNTAJE ┆ CONDICION ┆ … ┆ CARRERA ┆ Escala ┆ PuntajeOrigin ┆ Puntaje_norma │\n",
       "│ --- ┆ NOMBRES       ┆ ---     ┆ ---       ┆   ┆ ---     ┆ ---    ┆ al            ┆ lizado        │\n",
       "│ str ┆ ---           ┆ f64     ┆ str       ┆   ┆ str     ┆ str    ┆ ---           ┆ ---           │\n",
       "│     ┆ str           ┆         ┆           ┆   ┆         ┆        ┆ f64           ┆ f64           │\n",
       "╞═════╪═══════════════╪═════════╪═══════════╪═══╪═════════╪════════╪═══════════════╪═══════════════╡\n",
       "└─────┴───────────────┴─────────┴───────────┴───┴─────────┴────────┴───────────────┴───────────────┘"
      ]
     },
     "execution_count": 38,
     "metadata": {},
     "output_type": "execute_result"
    }
   ],
   "source": [
    "df2.filter(\n",
    "    pl.col('MODALIDAD').is_null()\n",
    ")"
   ]
  },
  {
   "cell_type": "code",
   "execution_count": 39,
   "id": "00f21e77",
   "metadata": {},
   "outputs": [
    {
     "data": {
      "text/html": [
       "<div><style>\n",
       ".dataframe > thead > tr,\n",
       ".dataframe > tbody > tr {\n",
       "  text-align: right;\n",
       "  white-space: pre-wrap;\n",
       "}\n",
       "</style>\n",
       "<small>shape: (6, 1)</small><table border=\"1\" class=\"dataframe\"><thead><tr><th>MODALIDAD</th></tr><tr><td>str</td></tr></thead><tbody><tr><td>&quot;TITULADOS Y GRADUADOS&quot;</td></tr><tr><td>&quot;1ER Y 2DO PUESTO I.E.&quot;</td></tr><tr><td>&quot;DEPORTISTAS DESCATADOS&quot;</td></tr><tr><td>&quot;PERSONA CON DISCAPACIDAD&quot;</td></tr><tr><td>&quot;VICTIMAS DE TERRORISMO&quot;</td></tr><tr><td>&quot;ORDINARIA&quot;</td></tr></tbody></table></div>"
      ],
      "text/plain": [
       "shape: (6, 1)\n",
       "┌──────────────────────────┐\n",
       "│ MODALIDAD                │\n",
       "│ ---                      │\n",
       "│ str                      │\n",
       "╞══════════════════════════╡\n",
       "│ TITULADOS Y GRADUADOS    │\n",
       "│ 1ER Y 2DO PUESTO I.E.    │\n",
       "│ DEPORTISTAS DESCATADOS   │\n",
       "│ PERSONA CON DISCAPACIDAD │\n",
       "│ VICTIMAS DE TERRORISMO   │\n",
       "│ ORDINARIA                │\n",
       "└──────────────────────────┘"
      ]
     },
     "execution_count": 39,
     "metadata": {},
     "output_type": "execute_result"
    }
   ],
   "source": [
    "df2.filter(\n",
    "    (pl.col('AÑO') == 2023) & (pl.col('PERIODO') == 'II')\n",
    ").select({'MODALIDAD'}).unique()"
   ]
  },
  {
   "cell_type": "markdown",
   "id": "5640c249",
   "metadata": {},
   "source": [
    "## Estandarizacion de Modalidades de Ingreso\n",
    "\n",
    "Se realizó un proceso de normalización sobre la columna `MODALIDAD` con el fin de corregir inconsistencias en los registros de modalidades de ingreso. Estas inconsistencias incluían:\n",
    "\n",
    "- Variantes ortográficas, por ejemplo: `\"VICTIMAS DEL TERRORISMO\"` y `\"VICTIMA DE TERRORISMO\"`.\n",
    "- Diferencias en el uso de tildes, como: `\"EDUCACIÓN\"` y `\"EDUCACION\"`.\n",
    "- Formatos inconsistentes, tales como: `\"1ER Y 2DO PUESTO I.E.\"`, `\"PRIMEROS PUESTOS DE I. E.\"`, entre otros.\n",
    "- Presencia de valores nulos (`None`).\n",
    "\n",
    "Para abordar estos problemas, se construyó un diccionario de mapeo que unifica todas las variantes hacia una forma estandarizada segun las **MODALIDADES PUBLICADA OFICIALMENTE POR LA UNIVERSIDAD** EN EL AÑO 2025-I, escrita en mayúsculas y sin tildes. Esto permite realizar análisis más confiables y agrupar correctamente las modalidades de ingreso.\n",
    "\n",
    "La normalización se aplicó utilizando la función `map_elements()` de la biblioteca Polars, generando una nueva columna llamada `Modalidad_Normalizada`. Esta columna conserva el valor original si no se encuentra en el diccionario de mapeo, y lo reemplaza por la versión estandarizada si existe una correspondencia.\n"
   ]
  },
  {
   "cell_type": "code",
   "execution_count": 40,
   "id": "31854333",
   "metadata": {},
   "outputs": [
    {
     "data": {
      "text/html": [
       "<div><style>\n",
       ".dataframe > thead > tr,\n",
       ".dataframe > tbody > tr {\n",
       "  text-align: right;\n",
       "  white-space: pre-wrap;\n",
       "}\n",
       "</style>\n",
       "<small>shape: (14, 11)</small><table border=\"1\" class=\"dataframe\"><thead><tr><th>DNI</th><th>APELLIDOS Y NOMBRES</th><th>PUNTAJE</th><th>CONDICION</th><th>AÑO</th><th>PERIODO</th><th>MODALIDAD</th><th>CARRERA</th><th>Escala</th><th>PuntajeOriginal</th><th>Puntaje_normalizado</th></tr><tr><td>str</td><td>str</td><td>f64</td><td>str</td><td>i64</td><td>str</td><td>str</td><td>str</td><td>str</td><td>f64</td><td>f64</td></tr></thead><tbody><tr><td>&quot;60971296&quot;</td><td>&quot;REYES MARTINEZ LUIS ESTEBAN&quot;</td><td>2.475</td><td>&quot;INGRESO&quot;</td><td>2023</td><td>&quot;II&quot;</td><td>&quot;DEPORTISTAS DESCATADOS&quot;</td><td>&quot;AGRONOMIA&quot;</td><td>&quot;0-20&quot;</td><td>2.475</td><td>2.475</td></tr><tr><td>&quot;71820579&quot;</td><td>&quot;CLEMENTE ONCEBAY EBERTHS SEBAS…</td><td>5.658</td><td>&quot;INGRESO&quot;</td><td>2023</td><td>&quot;II&quot;</td><td>&quot;DEPORTISTAS DESCATADOS&quot;</td><td>&quot;INGENIERIA DE SISTEMAS&quot;</td><td>&quot;0-20&quot;</td><td>5.658</td><td>5.658</td></tr><tr><td>&quot;60766380&quot;</td><td>&quot;TORREALVA ORELLANA MIA VALENTI…</td><td>9.686</td><td>&quot;INGRESO&quot;</td><td>2023</td><td>&quot;II&quot;</td><td>&quot;DEPORTISTAS DESCATADOS&quot;</td><td>&quot;MEDICINA HUMANA&quot;</td><td>&quot;0-20&quot;</td><td>9.686</td><td>9.686</td></tr><tr><td>&quot;75785806&quot;</td><td>&quot;LOAYZA CHAVEZ LUZ ELZA&quot;</td><td>8.978</td><td>&quot;INGRESO&quot;</td><td>2023</td><td>&quot;II&quot;</td><td>&quot;DEPORTISTAS DESCATADOS&quot;</td><td>&quot;MEDICINA HUMANA&quot;</td><td>&quot;0-20&quot;</td><td>8.978</td><td>8.978</td></tr><tr><td>&quot;75018451&quot;</td><td>&quot;EVANAN CASTAÑEDA GABRIEL ISAAC…</td><td>6.012</td><td>&quot;NO INGRESO&quot;</td><td>2023</td><td>&quot;II&quot;</td><td>&quot;DEPORTISTAS DESCATADOS&quot;</td><td>&quot;MEDICINA HUMANA&quot;</td><td>&quot;0-20&quot;</td><td>6.012</td><td>6.012</td></tr><tr><td>&hellip;</td><td>&hellip;</td><td>&hellip;</td><td>&hellip;</td><td>&hellip;</td><td>&hellip;</td><td>&hellip;</td><td>&hellip;</td><td>&hellip;</td><td>&hellip;</td><td>&hellip;</td></tr><tr><td>&quot;60766380&quot;</td><td>&quot;TORREALVA ORELLANA MIA VALENTI…</td><td>9.686</td><td>&quot;INGRESO&quot;</td><td>2023</td><td>&quot;II&quot;</td><td>&quot;DEPORTISTAS DESCATADOS&quot;</td><td>&quot;MEDICINA HUMANA&quot;</td><td>&quot;0-20&quot;</td><td>9.686</td><td>9.686</td></tr><tr><td>&quot;75785806&quot;</td><td>&quot;LOAYZA CHAVEZ LUZ ELZA&quot;</td><td>8.978</td><td>&quot;INGRESO&quot;</td><td>2023</td><td>&quot;II&quot;</td><td>&quot;DEPORTISTAS DESCATADOS&quot;</td><td>&quot;MEDICINA HUMANA&quot;</td><td>&quot;0-20&quot;</td><td>8.978</td><td>8.978</td></tr><tr><td>&quot;75018451&quot;</td><td>&quot;EVANAN CASTAÑEDA GABRIEL ISAAC…</td><td>6.012</td><td>&quot;NO INGRESO&quot;</td><td>2023</td><td>&quot;II&quot;</td><td>&quot;DEPORTISTAS DESCATADOS&quot;</td><td>&quot;MEDICINA HUMANA&quot;</td><td>&quot;0-20&quot;</td><td>6.012</td><td>6.012</td></tr><tr><td>&quot;60653029&quot;</td><td>&quot;EVANAN CASTAÑEDA ALICIA SARA A…</td><td>3.576</td><td>&quot;NO INGRESO&quot;</td><td>2023</td><td>&quot;II&quot;</td><td>&quot;DEPORTISTAS DESCATADOS&quot;</td><td>&quot;MEDICINA HUMANA&quot;</td><td>&quot;0-20&quot;</td><td>3.576</td><td>3.576</td></tr><tr><td>&quot;75054961&quot;</td><td>&quot;PALOMINO FLORES CARMEN ROSA&quot;</td><td>4.067</td><td>&quot;INGRESO&quot;</td><td>2023</td><td>&quot;II&quot;</td><td>&quot;DEPORTISTAS DESCATADOS&quot;</td><td>&quot;PSICOLOGIA&quot;</td><td>&quot;0-20&quot;</td><td>4.067</td><td>4.067</td></tr></tbody></table></div>"
      ],
      "text/plain": [
       "shape: (14, 11)\n",
       "┌──────────┬────────────┬─────────┬────────────┬───┬────────────┬────────┬────────────┬────────────┐\n",
       "│ DNI      ┆ APELLIDOS  ┆ PUNTAJE ┆ CONDICION  ┆ … ┆ CARRERA    ┆ Escala ┆ PuntajeOri ┆ Puntaje_no │\n",
       "│ ---      ┆ Y NOMBRES  ┆ ---     ┆ ---        ┆   ┆ ---        ┆ ---    ┆ ginal      ┆ rmalizado  │\n",
       "│ str      ┆ ---        ┆ f64     ┆ str        ┆   ┆ str        ┆ str    ┆ ---        ┆ ---        │\n",
       "│          ┆ str        ┆         ┆            ┆   ┆            ┆        ┆ f64        ┆ f64        │\n",
       "╞══════════╪════════════╪═════════╪════════════╪═══╪════════════╪════════╪════════════╪════════════╡\n",
       "│ 60971296 ┆ REYES      ┆ 2.475   ┆ INGRESO    ┆ … ┆ AGRONOMIA  ┆ 0-20   ┆ 2.475      ┆ 2.475      │\n",
       "│          ┆ MARTINEZ   ┆         ┆            ┆   ┆            ┆        ┆            ┆            │\n",
       "│          ┆ LUIS       ┆         ┆            ┆   ┆            ┆        ┆            ┆            │\n",
       "│          ┆ ESTEBAN    ┆         ┆            ┆   ┆            ┆        ┆            ┆            │\n",
       "│ 71820579 ┆ CLEMENTE   ┆ 5.658   ┆ INGRESO    ┆ … ┆ INGENIERIA ┆ 0-20   ┆ 5.658      ┆ 5.658      │\n",
       "│          ┆ ONCEBAY    ┆         ┆            ┆   ┆ DE         ┆        ┆            ┆            │\n",
       "│          ┆ EBERTHS    ┆         ┆            ┆   ┆ SISTEMAS   ┆        ┆            ┆            │\n",
       "│          ┆ SEBAS…     ┆         ┆            ┆   ┆            ┆        ┆            ┆            │\n",
       "│ 60766380 ┆ TORREALVA  ┆ 9.686   ┆ INGRESO    ┆ … ┆ MEDICINA   ┆ 0-20   ┆ 9.686      ┆ 9.686      │\n",
       "│          ┆ ORELLANA   ┆         ┆            ┆   ┆ HUMANA     ┆        ┆            ┆            │\n",
       "│          ┆ MIA        ┆         ┆            ┆   ┆            ┆        ┆            ┆            │\n",
       "│          ┆ VALENTI…   ┆         ┆            ┆   ┆            ┆        ┆            ┆            │\n",
       "│ 75785806 ┆ LOAYZA     ┆ 8.978   ┆ INGRESO    ┆ … ┆ MEDICINA   ┆ 0-20   ┆ 8.978      ┆ 8.978      │\n",
       "│          ┆ CHAVEZ LUZ ┆         ┆            ┆   ┆ HUMANA     ┆        ┆            ┆            │\n",
       "│          ┆ ELZA       ┆         ┆            ┆   ┆            ┆        ┆            ┆            │\n",
       "│ 75018451 ┆ EVANAN     ┆ 6.012   ┆ NO INGRESO ┆ … ┆ MEDICINA   ┆ 0-20   ┆ 6.012      ┆ 6.012      │\n",
       "│          ┆ CASTAÑEDA  ┆         ┆            ┆   ┆ HUMANA     ┆        ┆            ┆            │\n",
       "│          ┆ GABRIEL    ┆         ┆            ┆   ┆            ┆        ┆            ┆            │\n",
       "│          ┆ ISAAC…     ┆         ┆            ┆   ┆            ┆        ┆            ┆            │\n",
       "│ …        ┆ …          ┆ …       ┆ …          ┆ … ┆ …          ┆ …      ┆ …          ┆ …          │\n",
       "│ 60766380 ┆ TORREALVA  ┆ 9.686   ┆ INGRESO    ┆ … ┆ MEDICINA   ┆ 0-20   ┆ 9.686      ┆ 9.686      │\n",
       "│          ┆ ORELLANA   ┆         ┆            ┆   ┆ HUMANA     ┆        ┆            ┆            │\n",
       "│          ┆ MIA        ┆         ┆            ┆   ┆            ┆        ┆            ┆            │\n",
       "│          ┆ VALENTI…   ┆         ┆            ┆   ┆            ┆        ┆            ┆            │\n",
       "│ 75785806 ┆ LOAYZA     ┆ 8.978   ┆ INGRESO    ┆ … ┆ MEDICINA   ┆ 0-20   ┆ 8.978      ┆ 8.978      │\n",
       "│          ┆ CHAVEZ LUZ ┆         ┆            ┆   ┆ HUMANA     ┆        ┆            ┆            │\n",
       "│          ┆ ELZA       ┆         ┆            ┆   ┆            ┆        ┆            ┆            │\n",
       "│ 75018451 ┆ EVANAN     ┆ 6.012   ┆ NO INGRESO ┆ … ┆ MEDICINA   ┆ 0-20   ┆ 6.012      ┆ 6.012      │\n",
       "│          ┆ CASTAÑEDA  ┆         ┆            ┆   ┆ HUMANA     ┆        ┆            ┆            │\n",
       "│          ┆ GABRIEL    ┆         ┆            ┆   ┆            ┆        ┆            ┆            │\n",
       "│          ┆ ISAAC…     ┆         ┆            ┆   ┆            ┆        ┆            ┆            │\n",
       "│ 60653029 ┆ EVANAN     ┆ 3.576   ┆ NO INGRESO ┆ … ┆ MEDICINA   ┆ 0-20   ┆ 3.576      ┆ 3.576      │\n",
       "│          ┆ CASTAÑEDA  ┆         ┆            ┆   ┆ HUMANA     ┆        ┆            ┆            │\n",
       "│          ┆ ALICIA     ┆         ┆            ┆   ┆            ┆        ┆            ┆            │\n",
       "│          ┆ SARA A…    ┆         ┆            ┆   ┆            ┆        ┆            ┆            │\n",
       "│ 75054961 ┆ PALOMINO   ┆ 4.067   ┆ INGRESO    ┆ … ┆ PSICOLOGIA ┆ 0-20   ┆ 4.067      ┆ 4.067      │\n",
       "│          ┆ FLORES     ┆         ┆            ┆   ┆            ┆        ┆            ┆            │\n",
       "│          ┆ CARMEN     ┆         ┆            ┆   ┆            ┆        ┆            ┆            │\n",
       "│          ┆ ROSA       ┆         ┆            ┆   ┆            ┆        ┆            ┆            │\n",
       "└──────────┴────────────┴─────────┴────────────┴───┴────────────┴────────┴────────────┴────────────┘"
      ]
     },
     "execution_count": 40,
     "metadata": {},
     "output_type": "execute_result"
    }
   ],
   "source": [
    "df2.filter(\n",
    "    pl.col('MODALIDAD') == 'DEPORTISTAS DESCATADOS'\n",
    ")"
   ]
  },
  {
   "cell_type": "code",
   "execution_count": 41,
   "id": "c0b3bc52",
   "metadata": {},
   "outputs": [
    {
     "data": {
      "text/plain": [
       "['DEP. CALIFICADOS Y/O DEP. CALIFICADOS DE ALTO NIVEL',\n",
       " 'PRIMEROS PUESTOS COLEGIOS',\n",
       " 'VICTIMAS DE TERRORISMO',\n",
       " 'PRIMEROS PUESTOS DE LAS I. E. DE NIVEL SECUNDARIO',\n",
       " 'TITULADOS O GRADUADOS',\n",
       " 'ADMISIÓN ORDINARIA',\n",
       " 'DEPORTISTAS CALIFICADOS',\n",
       " 'VICTIMA DEL TERRORISMO',\n",
       " 'VICTIMAS DEL TERRORISMO',\n",
       " '1ER Y 2DO PUESTO DE I.E.',\n",
       " '1ER Y 2DO PUESTO I.E.',\n",
       " 'COMUNIDADES RURALES Y URBANAS',\n",
       " 'DEPORTISTAS DESCATADOS',\n",
       " 'DEPORTISTAS DESTACADOS',\n",
       " 'ORDINARIA',\n",
       " 'DEP. CALIFICADOS Y DEP. CALIFICADOS DE ALTO NIVEL',\n",
       " 'PRIMEROS PUESTOS DE EDUCACIÓN SECUNDARIA',\n",
       " 'SERVIDORES DE LA UNICA E HIJOS',\n",
       " 'ORDINARIO',\n",
       " 'PRIMEROS PUESTOS DE I. E. DE NIVEL SECUNDARIO',\n",
       " 'COLEGIO SECUNDARIO MAYOR PRESIDENTE DEL PERU',\n",
       " 'TITULADOS Y GRADUADOS',\n",
       " 'PERSONAS CON DISCAPACIDAD',\n",
       " 'PERSONA CON DISCAPACIDAD',\n",
       " 'EDUCACIÓN BÁSICA REGULAR Y EDUCACIÓN BÁSICA ALTERNATIVA']"
      ]
     },
     "execution_count": 41,
     "metadata": {},
     "output_type": "execute_result"
    }
   ],
   "source": [
    "list(df2['MODALIDAD'].unique())"
   ]
  },
  {
   "cell_type": "code",
   "execution_count": 42,
   "id": "67901032",
   "metadata": {},
   "outputs": [],
   "source": [
    "mapping = {\n",
    "    # Primeros puestos\n",
    "    \"PRIMEROS PUESTOS DE I. E. DE NIVEL SECUNDARIO\": \"1ER Y 2DO PUESTO DE INSTITUCIONES E.\",\n",
    "    \"PRIMEROS PUESTOS DE LAS I. E. DE NIVEL SECUNDARIO\": \"1ER Y 2DO PUESTO DE INSTITUCIONES E.\",\n",
    "    \"1ER Y 2DO PUESTO DE I.E.\": \"1ER Y 2DO PUESTO DE INSTITUCIONES E.\",\n",
    "    \"1ER Y 2DO PUESTO I.E.\": \"1ER Y 2DO PUESTO DE INSTITUCIONES E.\",\n",
    "    \"PRIMEROS PUESTOS COLEGIOS\": \"1ER Y 2DO PUESTO DE INSTITUCIONES E.\",\n",
    "    \"PRIMEROS PUESTOS DE EDUCACIÓN SECUNDARIA\": \"1ER Y 2DO PUESTO DE INSTITUCIONES E.\",\n",
    "\n",
    "    # Víctimas de terrorismo\n",
    "    \"VICTIMAS DEL TERRORISMO\": \"VICTIMA DE TERRORISMO\",\n",
    "    \"VICTIMA DEL TERRORISMO\": \"VICTIMA DE TERRORISMO\",\n",
    "    \"VICTIMAS DE TERRORISMO\": \"VICTIMA DE TERRORISMO\",\n",
    "\n",
    "    # Deportistas\n",
    "    \"DEPORTISTAS CALIFICADOS\": \"DEPORTISTAS DESTACADOS\",\n",
    "    \"DEP. CALIFICADOS Y DEP. CALIFICADOS DE ALTO NIVEL\": \"DEPORTISTAS DESTACADOS\",\n",
    "    \"DEP. CALIFICADOS Y/O DEP. CALIFICADOS DE ALTO NIVEL\": \"DEPORTISTAS DESTACADOS\",\n",
    "    \"DEPORTISTAS DESTACADOS\": \"DEPORTISTAS DESTACADOS\",\n",
    "    \"DEPORTISTAS DESCATADOS\": \"DEPORTISTAS DESTACADOS\",\n",
    "\n",
    "    # Discapacidad\n",
    "    \"PERSONA CON DISCAPACIDAD\": \"PERSONA CON DISCAPACIDAD\",\n",
    "    \"PERSONAS CON DISCAPACIDAD\": \"PERSONA CON DISCAPACIDAD\",\n",
    "\n",
    "    # Ordinaria\n",
    "    \"ADMISIÓN ORDINARIA\": \"ORDINARIA\",\n",
    "    \"ORDINARIA\": \"ORDINARIA\",\n",
    "    \"ORDINARIO\": \"ORDINARIA\",\n",
    "    \"EDUCACIÓN BÁSICA REGULAR Y EDUCACIÓN BÁSICA ALTERNATIVA\": \"ORDINARIA\",\n",
    "\n",
    "    # Otros\n",
    "    \"SERVIDORES DE LA UNICA E HIJOS\": \"SERVIDORES DE LA UNICA E HIJOS\",\n",
    "    \"TITULADOS Y GRADUADOS\": \"TITULADOS O GRADUADOS\",\n",
    "    \"TITULADOS O GRADUADOS\": \"TITULADOS O GRADUADOS\",\n",
    "    \"COLEGIO SECUNDARIO MAYOR PRESIDENTE DEL PERU\": \"COLEGIO SECUNDARIO MAYOR PRESIDENTE DEL PERU\",\n",
    "    \"COMUNIDADES RURALES Y URBANAS\": \"COMUNIDADES RURALES Y URBANAS\"\n",
    "}\n"
   ]
  },
  {
   "cell_type": "code",
   "execution_count": 43,
   "id": "e2aa864e",
   "metadata": {},
   "outputs": [],
   "source": [
    "def normalizar_valor(x):\n",
    "    return mapping.get(x, x)"
   ]
  },
  {
   "cell_type": "code",
   "execution_count": 44,
   "id": "100a1cd2",
   "metadata": {},
   "outputs": [],
   "source": [
    "df2= df2.with_columns(\n",
    "    pl.col(\"MODALIDAD\").map_elements(normalizar_valor, return_dtype=pl.Utf8).alias(\"MODALIDAD NORMALIZADA\")\n",
    ")       "
   ]
  },
  {
   "cell_type": "code",
   "execution_count": 45,
   "id": "09facba2",
   "metadata": {},
   "outputs": [
    {
     "data": {
      "text/plain": [
       "9"
      ]
     },
     "execution_count": 45,
     "metadata": {},
     "output_type": "execute_result"
    }
   ],
   "source": [
    "df2['MODALIDAD NORMALIZADA'].n_unique()"
   ]
  },
  {
   "cell_type": "code",
   "execution_count": 46,
   "id": "9d7b3858",
   "metadata": {},
   "outputs": [
    {
     "data": {
      "text/html": [
       "<div><style>\n",
       ".dataframe > thead > tr,\n",
       ".dataframe > tbody > tr {\n",
       "  text-align: right;\n",
       "  white-space: pre-wrap;\n",
       "}\n",
       "</style>\n",
       "<small>shape: (2, 12)</small><table border=\"1\" class=\"dataframe\"><thead><tr><th>DNI</th><th>APELLIDOS Y NOMBRES</th><th>PUNTAJE</th><th>CONDICION</th><th>AÑO</th><th>PERIODO</th><th>MODALIDAD</th><th>CARRERA</th><th>Escala</th><th>PuntajeOriginal</th><th>Puntaje_normalizado</th><th>MODALIDAD NORMALIZADA</th></tr><tr><td>str</td><td>str</td><td>f64</td><td>str</td><td>i64</td><td>str</td><td>str</td><td>str</td><td>str</td><td>f64</td><td>f64</td><td>str</td></tr></thead><tbody><tr><td>&quot;73144035&quot;</td><td>&quot;HERNANDEZ GUERRERO LUIS JAVIER&quot;</td><td>1482.5</td><td>&quot;INGRESO&quot;</td><td>2018</td><td>&quot;I&quot;</td><td>&quot;EDUCACIÓN BÁSICA REGULAR Y EDU…</td><td>&quot;: ADMINISTRACIÓN&quot;</td><td>&quot;0-2000&quot;</td><td>1482.5</td><td>14.825</td><td>&quot;ORDINARIA&quot;</td></tr><tr><td>&quot;75024298&quot;</td><td>&quot;MARTINEZ VERA CESIA DOLLY&quot;</td><td>1445.0</td><td>&quot;INGRESO&quot;</td><td>2018</td><td>&quot;I&quot;</td><td>&quot;EDUCACIÓN BÁSICA REGULAR Y EDU…</td><td>&quot;: ADMINISTRACIÓN&quot;</td><td>&quot;0-2000&quot;</td><td>1445.0</td><td>14.45</td><td>&quot;ORDINARIA&quot;</td></tr></tbody></table></div>"
      ],
      "text/plain": [
       "shape: (2, 12)\n",
       "┌──────────┬─────────────┬─────────┬───────────┬───┬────────┬────────────┬────────────┬────────────┐\n",
       "│ DNI      ┆ APELLIDOS Y ┆ PUNTAJE ┆ CONDICION ┆ … ┆ Escala ┆ PuntajeOri ┆ Puntaje_no ┆ MODALIDAD  │\n",
       "│ ---      ┆ NOMBRES     ┆ ---     ┆ ---       ┆   ┆ ---    ┆ ginal      ┆ rmalizado  ┆ NORMALIZAD │\n",
       "│ str      ┆ ---         ┆ f64     ┆ str       ┆   ┆ str    ┆ ---        ┆ ---        ┆ A          │\n",
       "│          ┆ str         ┆         ┆           ┆   ┆        ┆ f64        ┆ f64        ┆ ---        │\n",
       "│          ┆             ┆         ┆           ┆   ┆        ┆            ┆            ┆ str        │\n",
       "╞══════════╪═════════════╪═════════╪═══════════╪═══╪════════╪════════════╪════════════╪════════════╡\n",
       "│ 73144035 ┆ HERNANDEZ   ┆ 1482.5  ┆ INGRESO   ┆ … ┆ 0-2000 ┆ 1482.5     ┆ 14.825     ┆ ORDINARIA  │\n",
       "│          ┆ GUERRERO    ┆         ┆           ┆   ┆        ┆            ┆            ┆            │\n",
       "│          ┆ LUIS JAVIER ┆         ┆           ┆   ┆        ┆            ┆            ┆            │\n",
       "│ 75024298 ┆ MARTINEZ    ┆ 1445.0  ┆ INGRESO   ┆ … ┆ 0-2000 ┆ 1445.0     ┆ 14.45      ┆ ORDINARIA  │\n",
       "│          ┆ VERA CESIA  ┆         ┆           ┆   ┆        ┆            ┆            ┆            │\n",
       "│          ┆ DOLLY       ┆         ┆           ┆   ┆        ┆            ┆            ┆            │\n",
       "└──────────┴─────────────┴─────────┴───────────┴───┴────────┴────────────┴────────────┴────────────┘"
      ]
     },
     "execution_count": 46,
     "metadata": {},
     "output_type": "execute_result"
    }
   ],
   "source": [
    "df2.head(2)"
   ]
  },
  {
   "cell_type": "markdown",
   "id": "3a337c83",
   "metadata": {},
   "source": [
    "<p style=\"\n",
    "  display: inline-block;\n",
    "  font-size: 18px;\n",
    "  font-weight: bold;\n",
    "  font-style: italic;\n",
    "  background-color: #fce4ec;\n",
    "  color: #880e4f;\n",
    "  padding: 6px;\n",
    "  border-radius: 5px;\n",
    "  margin: 0;\n",
    "\">\n",
    "  F) COLUMNA PERIODO\n",
    "</p>"
   ]
  },
  {
   "cell_type": "code",
   "execution_count": 47,
   "id": "7771ff3f",
   "metadata": {},
   "outputs": [],
   "source": [
    "df2 = df2.with_columns(\n",
    "    pl.col('PERIODO').fill_null('I')\n",
    ")"
   ]
  },
  {
   "cell_type": "markdown",
   "id": "9e0757cd",
   "metadata": {},
   "source": [
    "<p style=\"\n",
    "  display: inline-block;\n",
    "  font-size: 18px;\n",
    "  font-weight: bold;\n",
    "  font-style: italic;\n",
    "  background-color: #fce4ec;\n",
    "  color: #880e4f;\n",
    "  padding: 6px;\n",
    "  border-radius: 5px;\n",
    "  margin: 0;\n",
    "\">\n",
    "  G) COLUMNA CARRERA\n",
    "</p>"
   ]
  },
  {
   "cell_type": "code",
   "execution_count": 48,
   "id": "4b005ca7",
   "metadata": {},
   "outputs": [
    {
     "name": "stdout",
     "output_type": "stream",
     "text": [
      "Se tiene un total de 155 carreras\n"
     ]
    }
   ],
   "source": [
    "print(f'Se tiene un total de {len(df2['CARRERA'].unique())} carreras')"
   ]
  },
  {
   "cell_type": "markdown",
   "id": "18efcd38",
   "metadata": {},
   "source": [
    "LIMPIAR LOS CARRACTERES DE LAS CARRERAS"
   ]
  },
  {
   "cell_type": "code",
   "execution_count": 49,
   "id": "73add5bc",
   "metadata": {},
   "outputs": [],
   "source": [
    "df2 = df2.with_columns(\n",
    "    pl.col('CARRERA')\n",
    "    .str.replace(r\"^.*?:\\s*\", \"\")  # Limpia todo antes de \": \"\n",
    "    .alias('CARRERA')\n",
    ")"
   ]
  },
  {
   "cell_type": "code",
   "execution_count": 50,
   "id": "f4801fec",
   "metadata": {},
   "outputs": [],
   "source": [
    "def normalizar_carrera(x):\n",
    "    return dict_carreras.get(x, x)"
   ]
  },
  {
   "cell_type": "code",
   "execution_count": 51,
   "id": "1b229d80",
   "metadata": {},
   "outputs": [],
   "source": [
    "def agregar_facultad(x):\n",
    "    return dict_facultades.get(x, x)"
   ]
  },
  {
   "cell_type": "code",
   "execution_count": 52,
   "id": "1c146d8a",
   "metadata": {},
   "outputs": [],
   "source": [
    "def agregar_area(x):\n",
    "    return dict_area.get(x, x)"
   ]
  },
  {
   "cell_type": "code",
   "execution_count": 53,
   "id": "bfeda356",
   "metadata": {},
   "outputs": [],
   "source": [
    "df2= df2.with_columns(\n",
    "    pl.col('CARRERA').map_elements(normalizar_carrera, return_dtype=pl.Utf8).alias('CARRERA NORMALIZADA')\n",
    ")  "
   ]
  },
  {
   "cell_type": "code",
   "execution_count": 54,
   "id": "d2fc8dd3",
   "metadata": {},
   "outputs": [],
   "source": [
    "df2= df2.with_columns(\n",
    "    pl.col('CARRERA NORMALIZADA').map_elements(agregar_facultad, return_dtype=pl.Utf8).alias('FACULTAD')\n",
    ")  "
   ]
  },
  {
   "cell_type": "code",
   "execution_count": 55,
   "id": "33235865",
   "metadata": {},
   "outputs": [],
   "source": [
    "df2  = df2.with_columns(\n",
    "    pl.col('CARRERA NORMALIZADA').map_elements(agregar_area, return_dtype=pl.Utf8).alias('AREA')\n",
    ")"
   ]
  },
  {
   "cell_type": "code",
   "execution_count": 56,
   "id": "b2cf67a0",
   "metadata": {},
   "outputs": [
    {
     "name": "stdout",
     "output_type": "stream",
     "text": [
      "shape: (3,)\n",
      "Series: 'AREA' [str]\n",
      "[\n",
      "\t\"B\"\n",
      "\t\"A\"\n",
      "\t\"C\"\n",
      "]\n"
     ]
    }
   ],
   "source": [
    "areas_unicas = df2['AREA'].unique()\n",
    "print(areas_unicas)"
   ]
  },
  {
   "cell_type": "code",
   "execution_count": 57,
   "id": "f9c54976",
   "metadata": {},
   "outputs": [
    {
     "data": {
      "text/plain": [
       "40"
      ]
     },
     "execution_count": 57,
     "metadata": {},
     "output_type": "execute_result"
    }
   ],
   "source": [
    "len(df2['CARRERA NORMALIZADA'].unique())"
   ]
  },
  {
   "cell_type": "code",
   "execution_count": 58,
   "id": "52f918b1",
   "metadata": {},
   "outputs": [
    {
     "data": {
      "text/plain": [
       "24"
      ]
     },
     "execution_count": 58,
     "metadata": {},
     "output_type": "execute_result"
    }
   ],
   "source": [
    "len(df2['FACULTAD'].unique())"
   ]
  },
  {
   "cell_type": "code",
   "execution_count": 59,
   "id": "11ea39c6",
   "metadata": {},
   "outputs": [
    {
     "name": "stdout",
     "output_type": "stream",
     "text": [
      "'MATEMÁTICA E INFORMÁTICA'\n",
      "'CIENCIAS DE LA EDUCACIÓN EN LENGUA Y LITERATURA'\n",
      "'INGENIERÍA DE MINAS'\n",
      "'DERECHO'\n",
      "'CIENCIAS DE LA COMUNICACIÓN'\n",
      "'CIENCIAS DE LA EDUCACIÓN EN CIENCIAS BIOLÓGICAS Y QUÍMICA'\n",
      "'ARQUITECTURA'\n",
      "'CIENCIAS DE LA EDUCACIÓN EN EDUCACIÓN PRIMARIA'\n",
      "'TURISMO'\n",
      "'INGENIERÍA DE ALIMENTOS'\n",
      "'CIENCIAS DE LA EDUCACIÓN EN EDUCACIÓN FÍSICA'\n",
      "'ESTADÍSTICA'\n",
      "'INGENIERÍA METALÚRGICA'\n",
      "'INGENIERÍA ELECTRÓNICA'\n",
      "'OBSTETRICIA'\n",
      "'CIENCIAS DE LA EDUCACIÓN EN EDUCACIÓN ARTÍSTICA'\n",
      "'ODONTOLOGÍA'\n",
      "'ADMINISTRACIÓN'\n",
      "'CONTABILIDAD'\n",
      "'CIENCIAS DE LA EDUCACIÓN EN EDUCACIÓN INICIAL'\n",
      "'MEDICINA HUMANA'\n",
      "'ENFERMERÍA'\n",
      "'NEGOCIOS INTERNACIONALES'\n",
      "'CIENCIAS DE LA EDUCACIÓN EN HISTORIA Y GEOGRAFÍA'\n",
      "'INGENIERÍA MECÁNICA ELÉCTRICA'\n",
      "'BIOLOGÍA'\n",
      "'INGENIERÍA PESQUERA'\n",
      "'MEDICINA VETERINARIA Y ZOOTECNIA'\n",
      "'AGRONOMÍA'\n",
      "'INGENIERÍA QUÍMICA'\n",
      "'FÍSICA'\n",
      "'ECONOMÍA'\n",
      "'CIENCIAS DE LA EDUCACIÓN EN MATEMÁTICA E INFORMÁTICA'\n",
      "'CIENCIAS DE LA EDUCACIÓN EN FILOSOFÍA, PSICOLOGÍA Y CIENCIAS SOCIALES'\n",
      "'INGENIERÍA AMBIENTAL Y SANITARIA'\n",
      "'INGENIERÍA CIVIL'\n",
      "'ARQUEOLOGÍA'\n",
      "'INGENIERÍA DE SISTEMAS'\n",
      "'FARMACIA Y BIOQUÍMICA'\n",
      "'PSICOLOGÍA'\n",
      "Total carreras únicas: 40\n"
     ]
    }
   ],
   "source": [
    "facultades = df2.select(pl.col(\"CARRERA NORMALIZADA\").unique()).to_series().to_list()\n",
    "for f in facultades:\n",
    "    print(f\"'{f}'\")\n",
    "print(f\"Total carreras únicas: {len(facultades)}\")"
   ]
  },
  {
   "cell_type": "code",
   "execution_count": 60,
   "id": "ba443534",
   "metadata": {},
   "outputs": [
    {
     "name": "stdout",
     "output_type": "stream",
     "text": [
      "'DERECHO Y CIENCIA POLÍTICA'\n",
      "'MEDICINA HUMANA'\n",
      "'INGENIERÍA PESQUERA Y DE ALIMENTOS'\n",
      "'INGENIERÍA MECÁNICA Y ELÉCTRICA'\n",
      "'ARQUITECTURA'\n",
      "'AGRONOMÍA'\n",
      "'CONTABILIDAD'\n",
      "'CIENCIAS ECONÓMICAS Y NEGOCIOS INTERNACIONALES'\n",
      "'PSICOLOGÍA'\n",
      "'MEDICINA VETERINARIA Y ZOOTECNIA'\n",
      "'OBSTETRICIA'\n",
      "'FARMACIA Y BIOQUÍMICA'\n",
      "'ODONTOLOGÍA'\n",
      "'INGENIERÍA DE SISTEMAS'\n",
      "'ENFERMERÍA'\n",
      "'INGENIERÍA AMBIENTAL Y SANITARIA'\n",
      "'INGENIERÍA QUÍMICA Y PETROQUÍMICA'\n",
      "'CIENCIAS'\n",
      "'CIENCIAS BIOLÓGICAS'\n",
      "'ADMINISTRACIÓN'\n",
      "'CIENCIAS DE LA EDUCACIÓN Y HUMANIDADES'\n",
      "'CIENCIAS DE LA COMUNICACIÓN, TURISMO Y ARQUEOLOGÍA'\n",
      "'INGENIERÍA CIVIL'\n",
      "'INGENIERÍA DE MINAS Y METALURGIA'\n",
      "Total facultades únicas: 24\n"
     ]
    }
   ],
   "source": [
    "facultades = df2.select(pl.col(\"FACULTAD\").unique()).to_series().to_list()\n",
    "for f in facultades:\n",
    "    print(f\"'{f}'\")\n",
    "print(f\"Total facultades únicas: {len(facultades)}\")"
   ]
  },
  {
   "cell_type": "code",
   "execution_count": 61,
   "id": "03fcc10d",
   "metadata": {},
   "outputs": [],
   "source": [
    "df_pd = df2.to_pandas()"
   ]
  },
  {
   "cell_type": "code",
   "execution_count": 62,
   "id": "8e6a77f6",
   "metadata": {},
   "outputs": [],
   "source": [
    "# os.makedirs(name = 'resultados', exist_ok=True)\n",
    "# export = './resultados/Unido.xlsx'"
   ]
  },
  {
   "cell_type": "code",
   "execution_count": 63,
   "id": "9b08c6eb",
   "metadata": {},
   "outputs": [],
   "source": [
    "# df_pd.to_excel(export, index=False, na_rep=\"\")"
   ]
  }
 ],
 "metadata": {
  "kernelspec": {
   "display_name": "Python 3",
   "language": "python",
   "name": "python3"
  },
  "language_info": {
   "codemirror_mode": {
    "name": "ipython",
    "version": 3
   },
   "file_extension": ".py",
   "mimetype": "text/x-python",
   "name": "python",
   "nbconvert_exporter": "python",
   "pygments_lexer": "ipython3",
   "version": "3.12.0"
  }
 },
 "nbformat": 4,
 "nbformat_minor": 5
}
